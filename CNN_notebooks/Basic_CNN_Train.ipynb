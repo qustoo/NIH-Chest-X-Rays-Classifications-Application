{
 "cells": [
  {
   "cell_type": "code",
   "execution_count": 1,
   "id": "65decf17",
   "metadata": {},
   "outputs": [],
   "source": [
    "import pandas as pd\n",
    "import keras\n",
    "from keras.callbacks import ModelCheckpoint, ReduceLROnPlateau, TerminateOnNaN, CSVLogger\n",
    "from tensorflow.keras.metrics import AUC\n",
    "from glob import glob\n",
    "from tensorflow.keras.preprocessing.image import ImageDataGenerator\n",
    "pd.set_option('display.width', 500)\n",
    "pd.set_option('display.max_columns', 100)\n",
    "pd.set_option('display.max_rows', 100)\n",
    "pd.set_option('display.notebook_repr_html', True)"
   ]
  },
  {
   "cell_type": "code",
   "execution_count": 2,
   "id": "f7df3d49",
   "metadata": {},
   "outputs": [
    {
     "data": {
      "text/html": [
       "<div>\n",
       "<style scoped>\n",
       "    .dataframe tbody tr th:only-of-type {\n",
       "        vertical-align: middle;\n",
       "    }\n",
       "\n",
       "    .dataframe tbody tr th {\n",
       "        vertical-align: top;\n",
       "    }\n",
       "\n",
       "    .dataframe thead th {\n",
       "        text-align: right;\n",
       "    }\n",
       "</style>\n",
       "<table border=\"1\" class=\"dataframe\">\n",
       "  <thead>\n",
       "    <tr style=\"text-align: right;\">\n",
       "      <th></th>\n",
       "      <th>filename</th>\n",
       "      <th>disease</th>\n",
       "      <th>followup</th>\n",
       "      <th>patientID</th>\n",
       "      <th>age</th>\n",
       "      <th>gender</th>\n",
       "      <th>viewposition</th>\n",
       "      <th>width</th>\n",
       "      <th>height</th>\n",
       "      <th>x</th>\n",
       "      <th>path</th>\n",
       "      <th>Atelectasis</th>\n",
       "      <th>Consolidation</th>\n",
       "      <th>Infiltration</th>\n",
       "      <th>Pneumothorax</th>\n",
       "      <th>Edema</th>\n",
       "      <th>Emphysema</th>\n",
       "      <th>Fibrosis</th>\n",
       "      <th>Effusion</th>\n",
       "      <th>Pneumonia</th>\n",
       "      <th>Pleural_Thickening</th>\n",
       "      <th>Cardiomegaly</th>\n",
       "      <th>Nodule</th>\n",
       "      <th>Mass</th>\n",
       "      <th>Hernia</th>\n",
       "      <th>Crossed Disease</th>\n",
       "      <th>array_disease</th>\n",
       "    </tr>\n",
       "  </thead>\n",
       "  <tbody>\n",
       "    <tr>\n",
       "      <th>0</th>\n",
       "      <td>00000001_000.png</td>\n",
       "      <td>Cardiomegaly</td>\n",
       "      <td>0</td>\n",
       "      <td>1</td>\n",
       "      <td>57</td>\n",
       "      <td>M</td>\n",
       "      <td>PA</td>\n",
       "      <td>2682</td>\n",
       "      <td>2749</td>\n",
       "      <td>0.143</td>\n",
       "      <td>K:/DiplomZalevskiy/data/images/00000001_000.png</td>\n",
       "      <td>0</td>\n",
       "      <td>0</td>\n",
       "      <td>0</td>\n",
       "      <td>0</td>\n",
       "      <td>0</td>\n",
       "      <td>0</td>\n",
       "      <td>0</td>\n",
       "      <td>0</td>\n",
       "      <td>0</td>\n",
       "      <td>0</td>\n",
       "      <td>1</td>\n",
       "      <td>0</td>\n",
       "      <td>0</td>\n",
       "      <td>0</td>\n",
       "      <td>1</td>\n",
       "      <td>[0, 0, 0, 0, 0, 0, 0, 0, 0, 0, 1, 0, 0, 0]</td>\n",
       "    </tr>\n",
       "    <tr>\n",
       "      <th>2</th>\n",
       "      <td>00000001_002.png</td>\n",
       "      <td>Cardiomegaly|Effusion</td>\n",
       "      <td>2</td>\n",
       "      <td>1</td>\n",
       "      <td>58</td>\n",
       "      <td>M</td>\n",
       "      <td>PA</td>\n",
       "      <td>2500</td>\n",
       "      <td>2048</td>\n",
       "      <td>0.168</td>\n",
       "      <td>K:/DiplomZalevskiy/data/images/00000001_002.png</td>\n",
       "      <td>0</td>\n",
       "      <td>0</td>\n",
       "      <td>0</td>\n",
       "      <td>0</td>\n",
       "      <td>0</td>\n",
       "      <td>0</td>\n",
       "      <td>0</td>\n",
       "      <td>1</td>\n",
       "      <td>0</td>\n",
       "      <td>0</td>\n",
       "      <td>1</td>\n",
       "      <td>0</td>\n",
       "      <td>0</td>\n",
       "      <td>0</td>\n",
       "      <td>2</td>\n",
       "      <td>[0, 0, 0, 0, 0, 0, 0, 1, 0, 0, 1, 0, 0, 0]</td>\n",
       "    </tr>\n",
       "    <tr>\n",
       "      <th>3</th>\n",
       "      <td>00000002_000.png</td>\n",
       "      <td>No Finding</td>\n",
       "      <td>0</td>\n",
       "      <td>2</td>\n",
       "      <td>80</td>\n",
       "      <td>M</td>\n",
       "      <td>PA</td>\n",
       "      <td>2500</td>\n",
       "      <td>2048</td>\n",
       "      <td>0.171</td>\n",
       "      <td>K:/DiplomZalevskiy/data/images/00000002_000.png</td>\n",
       "      <td>0</td>\n",
       "      <td>0</td>\n",
       "      <td>0</td>\n",
       "      <td>0</td>\n",
       "      <td>0</td>\n",
       "      <td>0</td>\n",
       "      <td>0</td>\n",
       "      <td>0</td>\n",
       "      <td>0</td>\n",
       "      <td>0</td>\n",
       "      <td>0</td>\n",
       "      <td>0</td>\n",
       "      <td>0</td>\n",
       "      <td>0</td>\n",
       "      <td>0</td>\n",
       "      <td>[0, 0, 0, 0, 0, 0, 0, 0, 0, 0, 0, 0, 0, 0]</td>\n",
       "    </tr>\n",
       "    <tr>\n",
       "      <th>4</th>\n",
       "      <td>00000003_001.png</td>\n",
       "      <td>Hernia</td>\n",
       "      <td>0</td>\n",
       "      <td>3</td>\n",
       "      <td>74</td>\n",
       "      <td>F</td>\n",
       "      <td>PA</td>\n",
       "      <td>2500</td>\n",
       "      <td>2048</td>\n",
       "      <td>0.168</td>\n",
       "      <td>K:/DiplomZalevskiy/data/images/00000003_001.png</td>\n",
       "      <td>0</td>\n",
       "      <td>0</td>\n",
       "      <td>0</td>\n",
       "      <td>0</td>\n",
       "      <td>0</td>\n",
       "      <td>0</td>\n",
       "      <td>0</td>\n",
       "      <td>0</td>\n",
       "      <td>0</td>\n",
       "      <td>0</td>\n",
       "      <td>0</td>\n",
       "      <td>0</td>\n",
       "      <td>0</td>\n",
       "      <td>1</td>\n",
       "      <td>1</td>\n",
       "      <td>[0, 0, 0, 0, 0, 0, 0, 0, 0, 0, 0, 0, 0, 1]</td>\n",
       "    </tr>\n",
       "    <tr>\n",
       "      <th>5</th>\n",
       "      <td>00000003_002.png</td>\n",
       "      <td>Hernia</td>\n",
       "      <td>1</td>\n",
       "      <td>3</td>\n",
       "      <td>75</td>\n",
       "      <td>F</td>\n",
       "      <td>PA</td>\n",
       "      <td>2048</td>\n",
       "      <td>2500</td>\n",
       "      <td>0.168</td>\n",
       "      <td>K:/DiplomZalevskiy/data/images/00000003_002.png</td>\n",
       "      <td>0</td>\n",
       "      <td>0</td>\n",
       "      <td>0</td>\n",
       "      <td>0</td>\n",
       "      <td>0</td>\n",
       "      <td>0</td>\n",
       "      <td>0</td>\n",
       "      <td>0</td>\n",
       "      <td>0</td>\n",
       "      <td>0</td>\n",
       "      <td>0</td>\n",
       "      <td>0</td>\n",
       "      <td>0</td>\n",
       "      <td>1</td>\n",
       "      <td>1</td>\n",
       "      <td>[0, 0, 0, 0, 0, 0, 0, 0, 0, 0, 0, 0, 0, 1]</td>\n",
       "    </tr>\n",
       "    <tr>\n",
       "      <th>...</th>\n",
       "      <td>...</td>\n",
       "      <td>...</td>\n",
       "      <td>...</td>\n",
       "      <td>...</td>\n",
       "      <td>...</td>\n",
       "      <td>...</td>\n",
       "      <td>...</td>\n",
       "      <td>...</td>\n",
       "      <td>...</td>\n",
       "      <td>...</td>\n",
       "      <td>...</td>\n",
       "      <td>...</td>\n",
       "      <td>...</td>\n",
       "      <td>...</td>\n",
       "      <td>...</td>\n",
       "      <td>...</td>\n",
       "      <td>...</td>\n",
       "      <td>...</td>\n",
       "      <td>...</td>\n",
       "      <td>...</td>\n",
       "      <td>...</td>\n",
       "      <td>...</td>\n",
       "      <td>...</td>\n",
       "      <td>...</td>\n",
       "      <td>...</td>\n",
       "      <td>...</td>\n",
       "      <td>...</td>\n",
       "    </tr>\n",
       "    <tr>\n",
       "      <th>112114</th>\n",
       "      <td>00030801_000.png</td>\n",
       "      <td>No Finding</td>\n",
       "      <td>0</td>\n",
       "      <td>30801</td>\n",
       "      <td>38</td>\n",
       "      <td>M</td>\n",
       "      <td>PA</td>\n",
       "      <td>2500</td>\n",
       "      <td>2048</td>\n",
       "      <td>0.168</td>\n",
       "      <td>K:/DiplomZalevskiy/data/images/00030801_000.png</td>\n",
       "      <td>0</td>\n",
       "      <td>0</td>\n",
       "      <td>0</td>\n",
       "      <td>0</td>\n",
       "      <td>0</td>\n",
       "      <td>0</td>\n",
       "      <td>0</td>\n",
       "      <td>0</td>\n",
       "      <td>0</td>\n",
       "      <td>0</td>\n",
       "      <td>0</td>\n",
       "      <td>0</td>\n",
       "      <td>0</td>\n",
       "      <td>0</td>\n",
       "      <td>0</td>\n",
       "      <td>[0, 0, 0, 0, 0, 0, 0, 0, 0, 0, 0, 0, 0, 0]</td>\n",
       "    </tr>\n",
       "    <tr>\n",
       "      <th>112116</th>\n",
       "      <td>00030802_000.png</td>\n",
       "      <td>No Finding</td>\n",
       "      <td>0</td>\n",
       "      <td>30802</td>\n",
       "      <td>28</td>\n",
       "      <td>M</td>\n",
       "      <td>PA</td>\n",
       "      <td>2048</td>\n",
       "      <td>2500</td>\n",
       "      <td>0.168</td>\n",
       "      <td>K:/DiplomZalevskiy/data/images/00030802_000.png</td>\n",
       "      <td>0</td>\n",
       "      <td>0</td>\n",
       "      <td>0</td>\n",
       "      <td>0</td>\n",
       "      <td>0</td>\n",
       "      <td>0</td>\n",
       "      <td>0</td>\n",
       "      <td>0</td>\n",
       "      <td>0</td>\n",
       "      <td>0</td>\n",
       "      <td>0</td>\n",
       "      <td>0</td>\n",
       "      <td>0</td>\n",
       "      <td>0</td>\n",
       "      <td>0</td>\n",
       "      <td>[0, 0, 0, 0, 0, 0, 0, 0, 0, 0, 0, 0, 0, 0]</td>\n",
       "    </tr>\n",
       "    <tr>\n",
       "      <th>112117</th>\n",
       "      <td>00030803_000.png</td>\n",
       "      <td>No Finding</td>\n",
       "      <td>0</td>\n",
       "      <td>30803</td>\n",
       "      <td>42</td>\n",
       "      <td>F</td>\n",
       "      <td>PA</td>\n",
       "      <td>2048</td>\n",
       "      <td>2500</td>\n",
       "      <td>0.168</td>\n",
       "      <td>K:/DiplomZalevskiy/data/images/00030803_000.png</td>\n",
       "      <td>0</td>\n",
       "      <td>0</td>\n",
       "      <td>0</td>\n",
       "      <td>0</td>\n",
       "      <td>0</td>\n",
       "      <td>0</td>\n",
       "      <td>0</td>\n",
       "      <td>0</td>\n",
       "      <td>0</td>\n",
       "      <td>0</td>\n",
       "      <td>0</td>\n",
       "      <td>0</td>\n",
       "      <td>0</td>\n",
       "      <td>0</td>\n",
       "      <td>0</td>\n",
       "      <td>[0, 0, 0, 0, 0, 0, 0, 0, 0, 0, 0, 0, 0, 0]</td>\n",
       "    </tr>\n",
       "    <tr>\n",
       "      <th>112118</th>\n",
       "      <td>00030804_000.png</td>\n",
       "      <td>No Finding</td>\n",
       "      <td>0</td>\n",
       "      <td>30804</td>\n",
       "      <td>29</td>\n",
       "      <td>F</td>\n",
       "      <td>PA</td>\n",
       "      <td>2048</td>\n",
       "      <td>2500</td>\n",
       "      <td>0.168</td>\n",
       "      <td>K:/DiplomZalevskiy/data/images/00030804_000.png</td>\n",
       "      <td>0</td>\n",
       "      <td>0</td>\n",
       "      <td>0</td>\n",
       "      <td>0</td>\n",
       "      <td>0</td>\n",
       "      <td>0</td>\n",
       "      <td>0</td>\n",
       "      <td>0</td>\n",
       "      <td>0</td>\n",
       "      <td>0</td>\n",
       "      <td>0</td>\n",
       "      <td>0</td>\n",
       "      <td>0</td>\n",
       "      <td>0</td>\n",
       "      <td>0</td>\n",
       "      <td>[0, 0, 0, 0, 0, 0, 0, 0, 0, 0, 0, 0, 0, 0]</td>\n",
       "    </tr>\n",
       "    <tr>\n",
       "      <th>112119</th>\n",
       "      <td>00030805_000.png</td>\n",
       "      <td>No Finding</td>\n",
       "      <td>0</td>\n",
       "      <td>30805</td>\n",
       "      <td>26</td>\n",
       "      <td>M</td>\n",
       "      <td>PA</td>\n",
       "      <td>2048</td>\n",
       "      <td>2500</td>\n",
       "      <td>0.171</td>\n",
       "      <td>K:/DiplomZalevskiy/data/images/00030805_000.png</td>\n",
       "      <td>0</td>\n",
       "      <td>0</td>\n",
       "      <td>0</td>\n",
       "      <td>0</td>\n",
       "      <td>0</td>\n",
       "      <td>0</td>\n",
       "      <td>0</td>\n",
       "      <td>0</td>\n",
       "      <td>0</td>\n",
       "      <td>0</td>\n",
       "      <td>0</td>\n",
       "      <td>0</td>\n",
       "      <td>0</td>\n",
       "      <td>0</td>\n",
       "      <td>0</td>\n",
       "      <td>[0, 0, 0, 0, 0, 0, 0, 0, 0, 0, 0, 0, 0, 0]</td>\n",
       "    </tr>\n",
       "  </tbody>\n",
       "</table>\n",
       "<p>109577 rows × 27 columns</p>\n",
       "</div>"
      ],
      "text/plain": [
       "                filename                disease  followup  patientID  age gender viewposition  width  height      x                                             path  Atelectasis  Consolidation  Infiltration  Pneumothorax  Edema  Emphysema  Fibrosis  Effusion  Pneumonia  Pleural_Thickening  Cardiomegaly  Nodule  Mass  Hernia  Crossed Disease                               array_disease\n",
       "0       00000001_000.png           Cardiomegaly         0          1   57      M           PA   2682    2749  0.143  K:/DiplomZalevskiy/data/images/00000001_000.png            0              0             0             0      0          0         0         0          0                   0             1       0     0       0                1  [0, 0, 0, 0, 0, 0, 0, 0, 0, 0, 1, 0, 0, 0]\n",
       "2       00000001_002.png  Cardiomegaly|Effusion         2          1   58      M           PA   2500    2048  0.168  K:/DiplomZalevskiy/data/images/00000001_002.png            0              0             0             0      0          0         0         1          0                   0             1       0     0       0                2  [0, 0, 0, 0, 0, 0, 0, 1, 0, 0, 1, 0, 0, 0]\n",
       "3       00000002_000.png             No Finding         0          2   80      M           PA   2500    2048  0.171  K:/DiplomZalevskiy/data/images/00000002_000.png            0              0             0             0      0          0         0         0          0                   0             0       0     0       0                0  [0, 0, 0, 0, 0, 0, 0, 0, 0, 0, 0, 0, 0, 0]\n",
       "4       00000003_001.png                 Hernia         0          3   74      F           PA   2500    2048  0.168  K:/DiplomZalevskiy/data/images/00000003_001.png            0              0             0             0      0          0         0         0          0                   0             0       0     0       1                1  [0, 0, 0, 0, 0, 0, 0, 0, 0, 0, 0, 0, 0, 1]\n",
       "5       00000003_002.png                 Hernia         1          3   75      F           PA   2048    2500  0.168  K:/DiplomZalevskiy/data/images/00000003_002.png            0              0             0             0      0          0         0         0          0                   0             0       0     0       1                1  [0, 0, 0, 0, 0, 0, 0, 0, 0, 0, 0, 0, 0, 1]\n",
       "...                  ...                    ...       ...        ...  ...    ...          ...    ...     ...    ...                                              ...          ...            ...           ...           ...    ...        ...       ...       ...        ...                 ...           ...     ...   ...     ...              ...                                         ...\n",
       "112114  00030801_000.png             No Finding         0      30801   38      M           PA   2500    2048  0.168  K:/DiplomZalevskiy/data/images/00030801_000.png            0              0             0             0      0          0         0         0          0                   0             0       0     0       0                0  [0, 0, 0, 0, 0, 0, 0, 0, 0, 0, 0, 0, 0, 0]\n",
       "112116  00030802_000.png             No Finding         0      30802   28      M           PA   2048    2500  0.168  K:/DiplomZalevskiy/data/images/00030802_000.png            0              0             0             0      0          0         0         0          0                   0             0       0     0       0                0  [0, 0, 0, 0, 0, 0, 0, 0, 0, 0, 0, 0, 0, 0]\n",
       "112117  00030803_000.png             No Finding         0      30803   42      F           PA   2048    2500  0.168  K:/DiplomZalevskiy/data/images/00030803_000.png            0              0             0             0      0          0         0         0          0                   0             0       0     0       0                0  [0, 0, 0, 0, 0, 0, 0, 0, 0, 0, 0, 0, 0, 0]\n",
       "112118  00030804_000.png             No Finding         0      30804   29      F           PA   2048    2500  0.168  K:/DiplomZalevskiy/data/images/00030804_000.png            0              0             0             0      0          0         0         0          0                   0             0       0     0       0                0  [0, 0, 0, 0, 0, 0, 0, 0, 0, 0, 0, 0, 0, 0]\n",
       "112119  00030805_000.png             No Finding         0      30805   26      M           PA   2048    2500  0.171  K:/DiplomZalevskiy/data/images/00030805_000.png            0              0             0             0      0          0         0         0          0                   0             0       0     0       0                0  [0, 0, 0, 0, 0, 0, 0, 0, 0, 0, 0, 0, 0, 0]\n",
       "\n",
       "[109577 rows x 27 columns]"
      ]
     },
     "execution_count": 2,
     "metadata": {},
     "output_type": "execute_result"
    }
   ],
   "source": [
    "final_dx = pd.read_pickle('ZalevskiyDiplom/dataframes/fixed_final_df.pkl')\n",
    "final_dx"
   ]
  },
  {
   "cell_type": "code",
   "execution_count": 27,
   "id": "f8474c2c",
   "metadata": {},
   "outputs": [
    {
     "data": {
      "text/html": [
       "<div>\n",
       "<style scoped>\n",
       "    .dataframe tbody tr th:only-of-type {\n",
       "        vertical-align: middle;\n",
       "    }\n",
       "\n",
       "    .dataframe tbody tr th {\n",
       "        vertical-align: top;\n",
       "    }\n",
       "\n",
       "    .dataframe thead th {\n",
       "        text-align: right;\n",
       "    }\n",
       "</style>\n",
       "<table border=\"1\" class=\"dataframe\">\n",
       "  <thead>\n",
       "    <tr style=\"text-align: right;\">\n",
       "      <th></th>\n",
       "      <th>epoch</th>\n",
       "      <th>auc_1</th>\n",
       "      <th>categorical_accuracy</th>\n",
       "      <th>loss</th>\n",
       "      <th>lr</th>\n",
       "      <th>val_auc_1</th>\n",
       "      <th>val_categorical_accuracy</th>\n",
       "      <th>val_loss</th>\n",
       "    </tr>\n",
       "  </thead>\n",
       "  <tbody>\n",
       "    <tr>\n",
       "      <th>0</th>\n",
       "      <td>0</td>\n",
       "      <td>0.738596</td>\n",
       "      <td>0.175294</td>\n",
       "      <td>0.177852</td>\n",
       "      <td>0.001</td>\n",
       "      <td>0.758059</td>\n",
       "      <td>0.139008</td>\n",
       "      <td>0.170068</td>\n",
       "    </tr>\n",
       "    <tr>\n",
       "      <th>1</th>\n",
       "      <td>1</td>\n",
       "      <td>0.772595</td>\n",
       "      <td>0.152150</td>\n",
       "      <td>0.166440</td>\n",
       "      <td>0.001</td>\n",
       "      <td>0.789755</td>\n",
       "      <td>0.179077</td>\n",
       "      <td>0.163565</td>\n",
       "    </tr>\n",
       "    <tr>\n",
       "      <th>2</th>\n",
       "      <td>2</td>\n",
       "      <td>0.780353</td>\n",
       "      <td>0.165027</td>\n",
       "      <td>0.164594</td>\n",
       "      <td>0.001</td>\n",
       "      <td>0.793554</td>\n",
       "      <td>0.149475</td>\n",
       "      <td>0.162266</td>\n",
       "    </tr>\n",
       "    <tr>\n",
       "      <th>3</th>\n",
       "      <td>3</td>\n",
       "      <td>0.784444</td>\n",
       "      <td>0.168828</td>\n",
       "      <td>0.163585</td>\n",
       "      <td>0.001</td>\n",
       "      <td>0.798373</td>\n",
       "      <td>0.183197</td>\n",
       "      <td>0.161165</td>\n",
       "    </tr>\n",
       "    <tr>\n",
       "      <th>4</th>\n",
       "      <td>4</td>\n",
       "      <td>0.788179</td>\n",
       "      <td>0.174363</td>\n",
       "      <td>0.162748</td>\n",
       "      <td>0.001</td>\n",
       "      <td>0.801485</td>\n",
       "      <td>0.249298</td>\n",
       "      <td>0.159672</td>\n",
       "    </tr>\n",
       "    <tr>\n",
       "      <th>5</th>\n",
       "      <td>5</td>\n",
       "      <td>0.792446</td>\n",
       "      <td>0.182077</td>\n",
       "      <td>0.161921</td>\n",
       "      <td>0.001</td>\n",
       "      <td>0.806182</td>\n",
       "      <td>0.168457</td>\n",
       "      <td>0.158771</td>\n",
       "    </tr>\n",
       "    <tr>\n",
       "      <th>6</th>\n",
       "      <td>6</td>\n",
       "      <td>0.795189</td>\n",
       "      <td>0.182599</td>\n",
       "      <td>0.161261</td>\n",
       "      <td>0.001</td>\n",
       "      <td>0.807441</td>\n",
       "      <td>0.220032</td>\n",
       "      <td>0.158520</td>\n",
       "    </tr>\n",
       "    <tr>\n",
       "      <th>7</th>\n",
       "      <td>7</td>\n",
       "      <td>0.797317</td>\n",
       "      <td>0.183773</td>\n",
       "      <td>0.160877</td>\n",
       "      <td>0.001</td>\n",
       "      <td>0.811967</td>\n",
       "      <td>0.218445</td>\n",
       "      <td>0.157476</td>\n",
       "    </tr>\n",
       "    <tr>\n",
       "      <th>8</th>\n",
       "      <td>8</td>\n",
       "      <td>0.799307</td>\n",
       "      <td>0.186941</td>\n",
       "      <td>0.160413</td>\n",
       "      <td>0.001</td>\n",
       "      <td>0.813575</td>\n",
       "      <td>0.192627</td>\n",
       "      <td>0.157289</td>\n",
       "    </tr>\n",
       "    <tr>\n",
       "      <th>9</th>\n",
       "      <td>9</td>\n",
       "      <td>0.802182</td>\n",
       "      <td>0.193668</td>\n",
       "      <td>0.159707</td>\n",
       "      <td>0.001</td>\n",
       "      <td>0.817046</td>\n",
       "      <td>0.223145</td>\n",
       "      <td>0.156431</td>\n",
       "    </tr>\n",
       "    <tr>\n",
       "      <th>10</th>\n",
       "      <td>10</td>\n",
       "      <td>0.803798</td>\n",
       "      <td>0.196128</td>\n",
       "      <td>0.159329</td>\n",
       "      <td>0.001</td>\n",
       "      <td>0.814353</td>\n",
       "      <td>0.211670</td>\n",
       "      <td>0.157171</td>\n",
       "    </tr>\n",
       "    <tr>\n",
       "      <th>11</th>\n",
       "      <td>11</td>\n",
       "      <td>0.804731</td>\n",
       "      <td>0.195830</td>\n",
       "      <td>0.159193</td>\n",
       "      <td>0.001</td>\n",
       "      <td>0.820761</td>\n",
       "      <td>0.180603</td>\n",
       "      <td>0.156061</td>\n",
       "    </tr>\n",
       "    <tr>\n",
       "      <th>12</th>\n",
       "      <td>12</td>\n",
       "      <td>0.806857</td>\n",
       "      <td>0.195755</td>\n",
       "      <td>0.158654</td>\n",
       "      <td>0.001</td>\n",
       "      <td>0.822860</td>\n",
       "      <td>0.217346</td>\n",
       "      <td>0.155446</td>\n",
       "    </tr>\n",
       "    <tr>\n",
       "      <th>13</th>\n",
       "      <td>13</td>\n",
       "      <td>0.807011</td>\n",
       "      <td>0.193333</td>\n",
       "      <td>0.158686</td>\n",
       "      <td>0.001</td>\n",
       "      <td>0.822395</td>\n",
       "      <td>0.233307</td>\n",
       "      <td>0.155387</td>\n",
       "    </tr>\n",
       "    <tr>\n",
       "      <th>14</th>\n",
       "      <td>14</td>\n",
       "      <td>0.808681</td>\n",
       "      <td>0.190780</td>\n",
       "      <td>0.158301</td>\n",
       "      <td>0.001</td>\n",
       "      <td>0.823548</td>\n",
       "      <td>0.181519</td>\n",
       "      <td>0.154827</td>\n",
       "    </tr>\n",
       "    <tr>\n",
       "      <th>15</th>\n",
       "      <td>15</td>\n",
       "      <td>0.809873</td>\n",
       "      <td>0.196202</td>\n",
       "      <td>0.158079</td>\n",
       "      <td>0.001</td>\n",
       "      <td>0.822200</td>\n",
       "      <td>0.155396</td>\n",
       "      <td>0.155095</td>\n",
       "    </tr>\n",
       "    <tr>\n",
       "      <th>16</th>\n",
       "      <td>16</td>\n",
       "      <td>0.809865</td>\n",
       "      <td>0.190258</td>\n",
       "      <td>0.157899</td>\n",
       "      <td>0.001</td>\n",
       "      <td>0.824890</td>\n",
       "      <td>0.243713</td>\n",
       "      <td>0.154572</td>\n",
       "    </tr>\n",
       "    <tr>\n",
       "      <th>17</th>\n",
       "      <td>17</td>\n",
       "      <td>0.812568</td>\n",
       "      <td>0.199053</td>\n",
       "      <td>0.157377</td>\n",
       "      <td>0.001</td>\n",
       "      <td>0.826968</td>\n",
       "      <td>0.194855</td>\n",
       "      <td>0.153799</td>\n",
       "    </tr>\n",
       "    <tr>\n",
       "      <th>18</th>\n",
       "      <td>18</td>\n",
       "      <td>0.813690</td>\n",
       "      <td>0.198420</td>\n",
       "      <td>0.157221</td>\n",
       "      <td>0.001</td>\n",
       "      <td>0.827638</td>\n",
       "      <td>0.203491</td>\n",
       "      <td>0.153598</td>\n",
       "    </tr>\n",
       "    <tr>\n",
       "      <th>19</th>\n",
       "      <td>19</td>\n",
       "      <td>0.813310</td>\n",
       "      <td>0.194413</td>\n",
       "      <td>0.157285</td>\n",
       "      <td>0.001</td>\n",
       "      <td>0.829653</td>\n",
       "      <td>0.188843</td>\n",
       "      <td>0.153472</td>\n",
       "    </tr>\n",
       "  </tbody>\n",
       "</table>\n",
       "</div>"
      ],
      "text/plain": [
       "    epoch     auc_1  categorical_accuracy      loss     lr  val_auc_1  val_categorical_accuracy  val_loss\n",
       "0       0  0.738596              0.175294  0.177852  0.001   0.758059                  0.139008  0.170068\n",
       "1       1  0.772595              0.152150  0.166440  0.001   0.789755                  0.179077  0.163565\n",
       "2       2  0.780353              0.165027  0.164594  0.001   0.793554                  0.149475  0.162266\n",
       "3       3  0.784444              0.168828  0.163585  0.001   0.798373                  0.183197  0.161165\n",
       "4       4  0.788179              0.174363  0.162748  0.001   0.801485                  0.249298  0.159672\n",
       "5       5  0.792446              0.182077  0.161921  0.001   0.806182                  0.168457  0.158771\n",
       "6       6  0.795189              0.182599  0.161261  0.001   0.807441                  0.220032  0.158520\n",
       "7       7  0.797317              0.183773  0.160877  0.001   0.811967                  0.218445  0.157476\n",
       "8       8  0.799307              0.186941  0.160413  0.001   0.813575                  0.192627  0.157289\n",
       "9       9  0.802182              0.193668  0.159707  0.001   0.817046                  0.223145  0.156431\n",
       "10     10  0.803798              0.196128  0.159329  0.001   0.814353                  0.211670  0.157171\n",
       "11     11  0.804731              0.195830  0.159193  0.001   0.820761                  0.180603  0.156061\n",
       "12     12  0.806857              0.195755  0.158654  0.001   0.822860                  0.217346  0.155446\n",
       "13     13  0.807011              0.193333  0.158686  0.001   0.822395                  0.233307  0.155387\n",
       "14     14  0.808681              0.190780  0.158301  0.001   0.823548                  0.181519  0.154827\n",
       "15     15  0.809873              0.196202  0.158079  0.001   0.822200                  0.155396  0.155095\n",
       "16     16  0.809865              0.190258  0.157899  0.001   0.824890                  0.243713  0.154572\n",
       "17     17  0.812568              0.199053  0.157377  0.001   0.826968                  0.194855  0.153799\n",
       "18     18  0.813690              0.198420  0.157221  0.001   0.827638                  0.203491  0.153598\n",
       "19     19  0.813310              0.194413  0.157285  0.001   0.829653                  0.188843  0.153472"
      ]
     },
     "execution_count": 27,
     "metadata": {},
     "output_type": "execute_result"
    }
   ],
   "source": [
    "import matplotlib.pyplot as plt\n",
    "import plotly.graph_objects as go\n",
    "from plotly.subplots import make_subplots\n",
    "model_log = pd.read_csv('cnn_best_logger.cvs')\n",
    "model_log"
   ]
  },
  {
   "cell_type": "code",
   "execution_count": 83,
   "id": "c57f984e",
   "metadata": {},
   "outputs": [],
   "source": [
    "def plot_history_log(log):\n",
    "    \"\"\"\n",
    "    Takes the model_log file as an input.\n",
    "    model_log has to be in a pandas DataFrame object e.g. model_log = pd.read_csv('cnnmodels/baseline_training.csv')\n",
    "    Returns a plotly plot with training and validation accuracies and losses.\n",
    "    \"\"\"\n",
    "    epoch = log.epoch\n",
    "    fig = make_subplots(\n",
    "        rows=1, cols=3,\n",
    "        subplot_titles=(\"Потери на обучающей и валидационной выборке\",\n",
    "                        \"Категориальная точность на обучающей и валидационной выборке\",\n",
    "                        \"Параметр AUC на обучеющей и валидационной выборке\"))\n",
    "    #training and valid loss\n",
    "    fig.add_trace(go.Scatter(x=epoch, y=log.loss,\n",
    "                             name='Потери при обучении',\n",
    "                             marker_color='red'),\n",
    "                  row=1, col=1)\n",
    "    fig.add_trace(go.Scatter(x=epoch, y=log.val_loss,\n",
    "                             name='Потери на валидации',marker_color='steelblue'),\n",
    "                  row=1, col=1)\n",
    "    #training and valid categorical acc\n",
    "    fig.add_trace(go.Scatter(x=epoch, y=log.categorical_accuracy,\n",
    "                            name='Категориальная точность на обучении',\n",
    "                             marker_color='steelblue'),\n",
    "                  row=1, col=2)\n",
    "    fig.add_trace(go.Scatter(x=epoch, y=log.val_categorical_accuracy,\n",
    "                             name='Категориальная точность на валидации',\n",
    "                             marker_color='steelblue'),\n",
    "                  row=1, col=2)\n",
    "    #training and valid auc\n",
    "    fig.add_trace(go.Scatter(x=epoch, y=log.auc_1,\n",
    "                            name='AUC при обучении',\n",
    "                             marker_color='purple'),\n",
    "                  row=1, col=3)\n",
    "    fig.add_trace(go.Scatter(x=epoch, y=log.val_auc_1,\n",
    "                             name='AUC на валидации',\n",
    "                             marker_color='purple'),\n",
    "                  row=1, col=3)\n",
    "    fig.update_yaxes(title_text=\"Потери\", row=1, col=1)\n",
    "    fig.update_yaxes(title_text=\"Точность\", row=1, col=2)\n",
    "    fig.update_yaxes(title_text=\"AUC\", row=1, col=3)\n",
    "    for col in [1, 2, 3]:\n",
    "        fig.update_xaxes(title_text=\"Epoch\", row=1, col=col)\n",
    "    fig.update_layout(template='plotly_white', height=500, width=1450)\n",
    "    fig.update_layout(template='plotly_white', height=500, width=600,\n",
    "                  legend=dict(x=.5, xanchor=\"center\"),title_text=\"\")\n",
    "    fig.show()"
   ]
  },
  {
   "cell_type": "code",
   "execution_count": 84,
   "id": "44d06c0c",
   "metadata": {},
   "outputs": [
    {
     "data": {
      "application/vnd.plotly.v1+json": {
       "config": {
        "plotlyServerURL": "https://plot.ly"
       },
       "data": [
        {
         "marker": {
          "color": "red"
         },
         "name": "Потери при обучении",
         "type": "scatter",
         "x": [
          0,
          1,
          2,
          3,
          4,
          5,
          6,
          7,
          8,
          9,
          10,
          11,
          12,
          13,
          14,
          15,
          16,
          17,
          18,
          19
         ],
         "xaxis": "x",
         "y": [
          0.1778517365455627,
          0.1664400994777679,
          0.1645942777395248,
          0.1635854691267013,
          0.1627480238676071,
          0.1619211435317993,
          0.1612605452537536,
          0.160877451300621,
          0.160413384437561,
          0.1597071290016174,
          0.1593292951583862,
          0.1591927856206894,
          0.158653900027275,
          0.1586855351924896,
          0.1583011448383331,
          0.1580794006586074,
          0.1578985154628753,
          0.1573768705129623,
          0.1572214663028717,
          0.157285451889038
         ],
         "yaxis": "y"
        },
        {
         "marker": {
          "color": "steelblue"
         },
         "name": "Потери на валидации",
         "type": "scatter",
         "x": [
          0,
          1,
          2,
          3,
          4,
          5,
          6,
          7,
          8,
          9,
          10,
          11,
          12,
          13,
          14,
          15,
          16,
          17,
          18,
          19
         ],
         "xaxis": "x",
         "y": [
          0.170068010687828,
          0.1635647565126419,
          0.1622664034366607,
          0.1611647605895996,
          0.1596717238426208,
          0.1587709188461303,
          0.1585203409194946,
          0.1574760526418686,
          0.1572892665863037,
          0.1564308255910873,
          0.1571709364652633,
          0.1560607701539993,
          0.155445858836174,
          0.1553870439529419,
          0.1548272371292114,
          0.1550946235656738,
          0.1545724123716354,
          0.1537993997335434,
          0.1535978764295578,
          0.153471902012825
         ],
         "yaxis": "y"
        },
        {
         "marker": {
          "color": "steelblue"
         },
         "name": "Категориальная точность на обучении",
         "type": "scatter",
         "x": [
          0,
          1,
          2,
          3,
          4,
          5,
          6,
          7,
          8,
          9,
          10,
          11,
          12,
          13,
          14,
          15,
          16,
          17,
          18,
          19
         ],
         "xaxis": "x2",
         "y": [
          0.175294429063797,
          0.152150422334671,
          0.1650268286466598,
          0.1688282638788223,
          0.1743627041578292,
          0.1820773631334304,
          0.1825991421937942,
          0.1837731003761291,
          0.1869409680366516,
          0.1936680078506469,
          0.1961277574300766,
          0.1958296000957489,
          0.1957550644874572,
          0.1933325827121734,
          0.1907796710729599,
          0.1962022930383682,
          0.1902579069137573,
          0.1990533620119094,
          0.1984197944402694,
          0.1944133937358856
         ],
         "yaxis": "y2"
        },
        {
         "marker": {
          "color": "steelblue"
         },
         "name": "Категориальная точность на валидации",
         "type": "scatter",
         "x": [
          0,
          1,
          2,
          3,
          4,
          5,
          6,
          7,
          8,
          9,
          10,
          11,
          12,
          13,
          14,
          15,
          16,
          17,
          18,
          19
         ],
         "xaxis": "x2",
         "y": [
          0.139007568359375,
          0.1790771484375,
          0.14947509765625,
          0.183197021484375,
          0.249298095703125,
          0.16845703125,
          0.22003173828125,
          0.21844482421875,
          0.192626953125,
          0.22314453125,
          0.211669921875,
          0.18060302734375,
          0.21734619140625,
          0.233306884765625,
          0.1815185546875,
          0.1553955078125,
          0.24371337890625,
          0.194854736328125,
          0.2034912109375,
          0.1888427734375
         ],
         "yaxis": "y2"
        },
        {
         "marker": {
          "color": "purple"
         },
         "name": "AUC при обучении",
         "type": "scatter",
         "x": [
          0,
          1,
          2,
          3,
          4,
          5,
          6,
          7,
          8,
          9,
          10,
          11,
          12,
          13,
          14,
          15,
          16,
          17,
          18,
          19
         ],
         "xaxis": "x3",
         "y": [
          0.7385956048965454,
          0.7725954055786133,
          0.7803527116775513,
          0.7844444513320923,
          0.7881790399551392,
          0.7924462556838989,
          0.7951893210411072,
          0.7973172664642334,
          0.799307107925415,
          0.8021823167800903,
          0.8037976026535034,
          0.8047312498092651,
          0.8068574666976929,
          0.8070107698440552,
          0.8086806535720825,
          0.8098726272583008,
          0.8098645210266113,
          0.8125684857368469,
          0.8136903047561646,
          0.813309907913208
         ],
         "yaxis": "y3"
        },
        {
         "marker": {
          "color": "purple"
         },
         "name": "AUC на валидации",
         "type": "scatter",
         "x": [
          0,
          1,
          2,
          3,
          4,
          5,
          6,
          7,
          8,
          9,
          10,
          11,
          12,
          13,
          14,
          15,
          16,
          17,
          18,
          19
         ],
         "xaxis": "x3",
         "y": [
          0.7580589056015015,
          0.7897549867630005,
          0.7935541868209839,
          0.7983733415603638,
          0.8014846444129944,
          0.8061820268630981,
          0.8074406385421753,
          0.8119665384292603,
          0.8135754466056824,
          0.8170461654663086,
          0.8143529891967773,
          0.8207606673240662,
          0.8228604793548584,
          0.8223950266838074,
          0.8235481977462769,
          0.8221995830535889,
          0.8248895406723022,
          0.8269681930541992,
          0.8276380300521851,
          0.8296529650688171
         ],
         "yaxis": "y3"
        }
       ],
       "layout": {
        "annotations": [
         {
          "font": {
           "size": 16
          },
          "showarrow": false,
          "text": "Потери на обучающей и валидационной выборке",
          "x": 0.14444444444444446,
          "xanchor": "center",
          "xref": "paper",
          "y": 1,
          "yanchor": "bottom",
          "yref": "paper"
         },
         {
          "font": {
           "size": 16
          },
          "showarrow": false,
          "text": "Категориальная точность на обучающей и валидационной выборке",
          "x": 0.5,
          "xanchor": "center",
          "xref": "paper",
          "y": 1,
          "yanchor": "bottom",
          "yref": "paper"
         },
         {
          "font": {
           "size": 16
          },
          "showarrow": false,
          "text": "Параметр AUC на обучеющей и валидационной выборке",
          "x": 0.8555555555555556,
          "xanchor": "center",
          "xref": "paper",
          "y": 1,
          "yanchor": "bottom",
          "yref": "paper"
         }
        ],
        "height": 500,
        "legend": {
         "x": 0.5,
         "xanchor": "center"
        },
        "template": {
         "data": {
          "bar": [
           {
            "error_x": {
             "color": "#2a3f5f"
            },
            "error_y": {
             "color": "#2a3f5f"
            },
            "marker": {
             "line": {
              "color": "white",
              "width": 0.5
             },
             "pattern": {
              "fillmode": "overlay",
              "size": 10,
              "solidity": 0.2
             }
            },
            "type": "bar"
           }
          ],
          "barpolar": [
           {
            "marker": {
             "line": {
              "color": "white",
              "width": 0.5
             },
             "pattern": {
              "fillmode": "overlay",
              "size": 10,
              "solidity": 0.2
             }
            },
            "type": "barpolar"
           }
          ],
          "carpet": [
           {
            "aaxis": {
             "endlinecolor": "#2a3f5f",
             "gridcolor": "#C8D4E3",
             "linecolor": "#C8D4E3",
             "minorgridcolor": "#C8D4E3",
             "startlinecolor": "#2a3f5f"
            },
            "baxis": {
             "endlinecolor": "#2a3f5f",
             "gridcolor": "#C8D4E3",
             "linecolor": "#C8D4E3",
             "minorgridcolor": "#C8D4E3",
             "startlinecolor": "#2a3f5f"
            },
            "type": "carpet"
           }
          ],
          "choropleth": [
           {
            "colorbar": {
             "outlinewidth": 0,
             "ticks": ""
            },
            "type": "choropleth"
           }
          ],
          "contour": [
           {
            "colorbar": {
             "outlinewidth": 0,
             "ticks": ""
            },
            "colorscale": [
             [
              0,
              "#0d0887"
             ],
             [
              0.1111111111111111,
              "#46039f"
             ],
             [
              0.2222222222222222,
              "#7201a8"
             ],
             [
              0.3333333333333333,
              "#9c179e"
             ],
             [
              0.4444444444444444,
              "#bd3786"
             ],
             [
              0.5555555555555556,
              "#d8576b"
             ],
             [
              0.6666666666666666,
              "#ed7953"
             ],
             [
              0.7777777777777778,
              "#fb9f3a"
             ],
             [
              0.8888888888888888,
              "#fdca26"
             ],
             [
              1,
              "#f0f921"
             ]
            ],
            "type": "contour"
           }
          ],
          "contourcarpet": [
           {
            "colorbar": {
             "outlinewidth": 0,
             "ticks": ""
            },
            "type": "contourcarpet"
           }
          ],
          "heatmap": [
           {
            "colorbar": {
             "outlinewidth": 0,
             "ticks": ""
            },
            "colorscale": [
             [
              0,
              "#0d0887"
             ],
             [
              0.1111111111111111,
              "#46039f"
             ],
             [
              0.2222222222222222,
              "#7201a8"
             ],
             [
              0.3333333333333333,
              "#9c179e"
             ],
             [
              0.4444444444444444,
              "#bd3786"
             ],
             [
              0.5555555555555556,
              "#d8576b"
             ],
             [
              0.6666666666666666,
              "#ed7953"
             ],
             [
              0.7777777777777778,
              "#fb9f3a"
             ],
             [
              0.8888888888888888,
              "#fdca26"
             ],
             [
              1,
              "#f0f921"
             ]
            ],
            "type": "heatmap"
           }
          ],
          "heatmapgl": [
           {
            "colorbar": {
             "outlinewidth": 0,
             "ticks": ""
            },
            "colorscale": [
             [
              0,
              "#0d0887"
             ],
             [
              0.1111111111111111,
              "#46039f"
             ],
             [
              0.2222222222222222,
              "#7201a8"
             ],
             [
              0.3333333333333333,
              "#9c179e"
             ],
             [
              0.4444444444444444,
              "#bd3786"
             ],
             [
              0.5555555555555556,
              "#d8576b"
             ],
             [
              0.6666666666666666,
              "#ed7953"
             ],
             [
              0.7777777777777778,
              "#fb9f3a"
             ],
             [
              0.8888888888888888,
              "#fdca26"
             ],
             [
              1,
              "#f0f921"
             ]
            ],
            "type": "heatmapgl"
           }
          ],
          "histogram": [
           {
            "marker": {
             "pattern": {
              "fillmode": "overlay",
              "size": 10,
              "solidity": 0.2
             }
            },
            "type": "histogram"
           }
          ],
          "histogram2d": [
           {
            "colorbar": {
             "outlinewidth": 0,
             "ticks": ""
            },
            "colorscale": [
             [
              0,
              "#0d0887"
             ],
             [
              0.1111111111111111,
              "#46039f"
             ],
             [
              0.2222222222222222,
              "#7201a8"
             ],
             [
              0.3333333333333333,
              "#9c179e"
             ],
             [
              0.4444444444444444,
              "#bd3786"
             ],
             [
              0.5555555555555556,
              "#d8576b"
             ],
             [
              0.6666666666666666,
              "#ed7953"
             ],
             [
              0.7777777777777778,
              "#fb9f3a"
             ],
             [
              0.8888888888888888,
              "#fdca26"
             ],
             [
              1,
              "#f0f921"
             ]
            ],
            "type": "histogram2d"
           }
          ],
          "histogram2dcontour": [
           {
            "colorbar": {
             "outlinewidth": 0,
             "ticks": ""
            },
            "colorscale": [
             [
              0,
              "#0d0887"
             ],
             [
              0.1111111111111111,
              "#46039f"
             ],
             [
              0.2222222222222222,
              "#7201a8"
             ],
             [
              0.3333333333333333,
              "#9c179e"
             ],
             [
              0.4444444444444444,
              "#bd3786"
             ],
             [
              0.5555555555555556,
              "#d8576b"
             ],
             [
              0.6666666666666666,
              "#ed7953"
             ],
             [
              0.7777777777777778,
              "#fb9f3a"
             ],
             [
              0.8888888888888888,
              "#fdca26"
             ],
             [
              1,
              "#f0f921"
             ]
            ],
            "type": "histogram2dcontour"
           }
          ],
          "mesh3d": [
           {
            "colorbar": {
             "outlinewidth": 0,
             "ticks": ""
            },
            "type": "mesh3d"
           }
          ],
          "parcoords": [
           {
            "line": {
             "colorbar": {
              "outlinewidth": 0,
              "ticks": ""
             }
            },
            "type": "parcoords"
           }
          ],
          "pie": [
           {
            "automargin": true,
            "type": "pie"
           }
          ],
          "scatter": [
           {
            "fillpattern": {
             "fillmode": "overlay",
             "size": 10,
             "solidity": 0.2
            },
            "type": "scatter"
           }
          ],
          "scatter3d": [
           {
            "line": {
             "colorbar": {
              "outlinewidth": 0,
              "ticks": ""
             }
            },
            "marker": {
             "colorbar": {
              "outlinewidth": 0,
              "ticks": ""
             }
            },
            "type": "scatter3d"
           }
          ],
          "scattercarpet": [
           {
            "marker": {
             "colorbar": {
              "outlinewidth": 0,
              "ticks": ""
             }
            },
            "type": "scattercarpet"
           }
          ],
          "scattergeo": [
           {
            "marker": {
             "colorbar": {
              "outlinewidth": 0,
              "ticks": ""
             }
            },
            "type": "scattergeo"
           }
          ],
          "scattergl": [
           {
            "marker": {
             "colorbar": {
              "outlinewidth": 0,
              "ticks": ""
             }
            },
            "type": "scattergl"
           }
          ],
          "scattermapbox": [
           {
            "marker": {
             "colorbar": {
              "outlinewidth": 0,
              "ticks": ""
             }
            },
            "type": "scattermapbox"
           }
          ],
          "scatterpolar": [
           {
            "marker": {
             "colorbar": {
              "outlinewidth": 0,
              "ticks": ""
             }
            },
            "type": "scatterpolar"
           }
          ],
          "scatterpolargl": [
           {
            "marker": {
             "colorbar": {
              "outlinewidth": 0,
              "ticks": ""
             }
            },
            "type": "scatterpolargl"
           }
          ],
          "scatterternary": [
           {
            "marker": {
             "colorbar": {
              "outlinewidth": 0,
              "ticks": ""
             }
            },
            "type": "scatterternary"
           }
          ],
          "surface": [
           {
            "colorbar": {
             "outlinewidth": 0,
             "ticks": ""
            },
            "colorscale": [
             [
              0,
              "#0d0887"
             ],
             [
              0.1111111111111111,
              "#46039f"
             ],
             [
              0.2222222222222222,
              "#7201a8"
             ],
             [
              0.3333333333333333,
              "#9c179e"
             ],
             [
              0.4444444444444444,
              "#bd3786"
             ],
             [
              0.5555555555555556,
              "#d8576b"
             ],
             [
              0.6666666666666666,
              "#ed7953"
             ],
             [
              0.7777777777777778,
              "#fb9f3a"
             ],
             [
              0.8888888888888888,
              "#fdca26"
             ],
             [
              1,
              "#f0f921"
             ]
            ],
            "type": "surface"
           }
          ],
          "table": [
           {
            "cells": {
             "fill": {
              "color": "#EBF0F8"
             },
             "line": {
              "color": "white"
             }
            },
            "header": {
             "fill": {
              "color": "#C8D4E3"
             },
             "line": {
              "color": "white"
             }
            },
            "type": "table"
           }
          ]
         },
         "layout": {
          "annotationdefaults": {
           "arrowcolor": "#2a3f5f",
           "arrowhead": 0,
           "arrowwidth": 1
          },
          "autotypenumbers": "strict",
          "coloraxis": {
           "colorbar": {
            "outlinewidth": 0,
            "ticks": ""
           }
          },
          "colorscale": {
           "diverging": [
            [
             0,
             "#8e0152"
            ],
            [
             0.1,
             "#c51b7d"
            ],
            [
             0.2,
             "#de77ae"
            ],
            [
             0.3,
             "#f1b6da"
            ],
            [
             0.4,
             "#fde0ef"
            ],
            [
             0.5,
             "#f7f7f7"
            ],
            [
             0.6,
             "#e6f5d0"
            ],
            [
             0.7,
             "#b8e186"
            ],
            [
             0.8,
             "#7fbc41"
            ],
            [
             0.9,
             "#4d9221"
            ],
            [
             1,
             "#276419"
            ]
           ],
           "sequential": [
            [
             0,
             "#0d0887"
            ],
            [
             0.1111111111111111,
             "#46039f"
            ],
            [
             0.2222222222222222,
             "#7201a8"
            ],
            [
             0.3333333333333333,
             "#9c179e"
            ],
            [
             0.4444444444444444,
             "#bd3786"
            ],
            [
             0.5555555555555556,
             "#d8576b"
            ],
            [
             0.6666666666666666,
             "#ed7953"
            ],
            [
             0.7777777777777778,
             "#fb9f3a"
            ],
            [
             0.8888888888888888,
             "#fdca26"
            ],
            [
             1,
             "#f0f921"
            ]
           ],
           "sequentialminus": [
            [
             0,
             "#0d0887"
            ],
            [
             0.1111111111111111,
             "#46039f"
            ],
            [
             0.2222222222222222,
             "#7201a8"
            ],
            [
             0.3333333333333333,
             "#9c179e"
            ],
            [
             0.4444444444444444,
             "#bd3786"
            ],
            [
             0.5555555555555556,
             "#d8576b"
            ],
            [
             0.6666666666666666,
             "#ed7953"
            ],
            [
             0.7777777777777778,
             "#fb9f3a"
            ],
            [
             0.8888888888888888,
             "#fdca26"
            ],
            [
             1,
             "#f0f921"
            ]
           ]
          },
          "colorway": [
           "#636efa",
           "#EF553B",
           "#00cc96",
           "#ab63fa",
           "#FFA15A",
           "#19d3f3",
           "#FF6692",
           "#B6E880",
           "#FF97FF",
           "#FECB52"
          ],
          "font": {
           "color": "#2a3f5f"
          },
          "geo": {
           "bgcolor": "white",
           "lakecolor": "white",
           "landcolor": "white",
           "showlakes": true,
           "showland": true,
           "subunitcolor": "#C8D4E3"
          },
          "hoverlabel": {
           "align": "left"
          },
          "hovermode": "closest",
          "mapbox": {
           "style": "light"
          },
          "paper_bgcolor": "white",
          "plot_bgcolor": "white",
          "polar": {
           "angularaxis": {
            "gridcolor": "#EBF0F8",
            "linecolor": "#EBF0F8",
            "ticks": ""
           },
           "bgcolor": "white",
           "radialaxis": {
            "gridcolor": "#EBF0F8",
            "linecolor": "#EBF0F8",
            "ticks": ""
           }
          },
          "scene": {
           "xaxis": {
            "backgroundcolor": "white",
            "gridcolor": "#DFE8F3",
            "gridwidth": 2,
            "linecolor": "#EBF0F8",
            "showbackground": true,
            "ticks": "",
            "zerolinecolor": "#EBF0F8"
           },
           "yaxis": {
            "backgroundcolor": "white",
            "gridcolor": "#DFE8F3",
            "gridwidth": 2,
            "linecolor": "#EBF0F8",
            "showbackground": true,
            "ticks": "",
            "zerolinecolor": "#EBF0F8"
           },
           "zaxis": {
            "backgroundcolor": "white",
            "gridcolor": "#DFE8F3",
            "gridwidth": 2,
            "linecolor": "#EBF0F8",
            "showbackground": true,
            "ticks": "",
            "zerolinecolor": "#EBF0F8"
           }
          },
          "shapedefaults": {
           "line": {
            "color": "#2a3f5f"
           }
          },
          "ternary": {
           "aaxis": {
            "gridcolor": "#DFE8F3",
            "linecolor": "#A2B1C6",
            "ticks": ""
           },
           "baxis": {
            "gridcolor": "#DFE8F3",
            "linecolor": "#A2B1C6",
            "ticks": ""
           },
           "bgcolor": "white",
           "caxis": {
            "gridcolor": "#DFE8F3",
            "linecolor": "#A2B1C6",
            "ticks": ""
           }
          },
          "title": {
           "x": 0.05
          },
          "xaxis": {
           "automargin": true,
           "gridcolor": "#EBF0F8",
           "linecolor": "#EBF0F8",
           "ticks": "",
           "title": {
            "standoff": 15
           },
           "zerolinecolor": "#EBF0F8",
           "zerolinewidth": 2
          },
          "yaxis": {
           "automargin": true,
           "gridcolor": "#EBF0F8",
           "linecolor": "#EBF0F8",
           "ticks": "",
           "title": {
            "standoff": 15
           },
           "zerolinecolor": "#EBF0F8",
           "zerolinewidth": 2
          }
         }
        },
        "title": {
         "text": ""
        },
        "width": 600,
        "xaxis": {
         "anchor": "y",
         "domain": [
          0,
          0.2888888888888889
         ],
         "title": {
          "text": "Epoch"
         }
        },
        "xaxis2": {
         "anchor": "y2",
         "domain": [
          0.35555555555555557,
          0.6444444444444445
         ],
         "title": {
          "text": "Epoch"
         }
        },
        "xaxis3": {
         "anchor": "y3",
         "domain": [
          0.7111111111111111,
          1
         ],
         "title": {
          "text": "Epoch"
         }
        },
        "yaxis": {
         "anchor": "x",
         "domain": [
          0,
          1
         ],
         "title": {
          "text": "Потери"
         }
        },
        "yaxis2": {
         "anchor": "x2",
         "domain": [
          0,
          1
         ],
         "title": {
          "text": "Точность"
         }
        },
        "yaxis3": {
         "anchor": "x3",
         "domain": [
          0,
          1
         ],
         "title": {
          "text": "AUC"
         }
        }
       }
      },
      "text/html": [
       "<div>                            <div id=\"617d2c04-96c3-4a64-a118-a3e53e61760e\" class=\"plotly-graph-div\" style=\"height:500px; width:600px;\"></div>            <script type=\"text/javascript\">                require([\"plotly\"], function(Plotly) {                    window.PLOTLYENV=window.PLOTLYENV || {};                                    if (document.getElementById(\"617d2c04-96c3-4a64-a118-a3e53e61760e\")) {                    Plotly.newPlot(                        \"617d2c04-96c3-4a64-a118-a3e53e61760e\",                        [{\"marker\":{\"color\":\"red\"},\"name\":\"\\u041f\\u043e\\u0442\\u0435\\u0440\\u0438 \\u043f\\u0440\\u0438 \\u043e\\u0431\\u0443\\u0447\\u0435\\u043d\\u0438\\u0438\",\"x\":[0,1,2,3,4,5,6,7,8,9,10,11,12,13,14,15,16,17,18,19],\"y\":[0.1778517365455627,0.1664400994777679,0.1645942777395248,0.1635854691267013,0.1627480238676071,0.1619211435317993,0.1612605452537536,0.160877451300621,0.160413384437561,0.1597071290016174,0.1593292951583862,0.1591927856206894,0.158653900027275,0.1586855351924896,0.1583011448383331,0.1580794006586074,0.1578985154628753,0.1573768705129623,0.1572214663028717,0.157285451889038],\"type\":\"scatter\",\"xaxis\":\"x\",\"yaxis\":\"y\"},{\"marker\":{\"color\":\"steelblue\"},\"name\":\"\\u041f\\u043e\\u0442\\u0435\\u0440\\u0438 \\u043d\\u0430 \\u0432\\u0430\\u043b\\u0438\\u0434\\u0430\\u0446\\u0438\\u0438\",\"x\":[0,1,2,3,4,5,6,7,8,9,10,11,12,13,14,15,16,17,18,19],\"y\":[0.170068010687828,0.1635647565126419,0.1622664034366607,0.1611647605895996,0.1596717238426208,0.1587709188461303,0.1585203409194946,0.1574760526418686,0.1572892665863037,0.1564308255910873,0.1571709364652633,0.1560607701539993,0.155445858836174,0.1553870439529419,0.1548272371292114,0.1550946235656738,0.1545724123716354,0.1537993997335434,0.1535978764295578,0.153471902012825],\"type\":\"scatter\",\"xaxis\":\"x\",\"yaxis\":\"y\"},{\"marker\":{\"color\":\"steelblue\"},\"name\":\"\\u041a\\u0430\\u0442\\u0435\\u0433\\u043e\\u0440\\u0438\\u0430\\u043b\\u044c\\u043d\\u0430\\u044f \\u0442\\u043e\\u0447\\u043d\\u043e\\u0441\\u0442\\u044c \\u043d\\u0430 \\u043e\\u0431\\u0443\\u0447\\u0435\\u043d\\u0438\\u0438\",\"x\":[0,1,2,3,4,5,6,7,8,9,10,11,12,13,14,15,16,17,18,19],\"y\":[0.175294429063797,0.152150422334671,0.1650268286466598,0.1688282638788223,0.1743627041578292,0.1820773631334304,0.1825991421937942,0.1837731003761291,0.1869409680366516,0.1936680078506469,0.1961277574300766,0.1958296000957489,0.1957550644874572,0.1933325827121734,0.1907796710729599,0.1962022930383682,0.1902579069137573,0.1990533620119094,0.1984197944402694,0.1944133937358856],\"type\":\"scatter\",\"xaxis\":\"x2\",\"yaxis\":\"y2\"},{\"marker\":{\"color\":\"steelblue\"},\"name\":\"\\u041a\\u0430\\u0442\\u0435\\u0433\\u043e\\u0440\\u0438\\u0430\\u043b\\u044c\\u043d\\u0430\\u044f \\u0442\\u043e\\u0447\\u043d\\u043e\\u0441\\u0442\\u044c \\u043d\\u0430 \\u0432\\u0430\\u043b\\u0438\\u0434\\u0430\\u0446\\u0438\\u0438\",\"x\":[0,1,2,3,4,5,6,7,8,9,10,11,12,13,14,15,16,17,18,19],\"y\":[0.139007568359375,0.1790771484375,0.14947509765625,0.183197021484375,0.249298095703125,0.16845703125,0.22003173828125,0.21844482421875,0.192626953125,0.22314453125,0.211669921875,0.18060302734375,0.21734619140625,0.233306884765625,0.1815185546875,0.1553955078125,0.24371337890625,0.194854736328125,0.2034912109375,0.1888427734375],\"type\":\"scatter\",\"xaxis\":\"x2\",\"yaxis\":\"y2\"},{\"marker\":{\"color\":\"purple\"},\"name\":\"AUC \\u043f\\u0440\\u0438 \\u043e\\u0431\\u0443\\u0447\\u0435\\u043d\\u0438\\u0438\",\"x\":[0,1,2,3,4,5,6,7,8,9,10,11,12,13,14,15,16,17,18,19],\"y\":[0.7385956048965454,0.7725954055786133,0.7803527116775513,0.7844444513320923,0.7881790399551392,0.7924462556838989,0.7951893210411072,0.7973172664642334,0.799307107925415,0.8021823167800903,0.8037976026535034,0.8047312498092651,0.8068574666976929,0.8070107698440552,0.8086806535720825,0.8098726272583008,0.8098645210266113,0.8125684857368469,0.8136903047561646,0.813309907913208],\"type\":\"scatter\",\"xaxis\":\"x3\",\"yaxis\":\"y3\"},{\"marker\":{\"color\":\"purple\"},\"name\":\"AUC \\u043d\\u0430 \\u0432\\u0430\\u043b\\u0438\\u0434\\u0430\\u0446\\u0438\\u0438\",\"x\":[0,1,2,3,4,5,6,7,8,9,10,11,12,13,14,15,16,17,18,19],\"y\":[0.7580589056015015,0.7897549867630005,0.7935541868209839,0.7983733415603638,0.8014846444129944,0.8061820268630981,0.8074406385421753,0.8119665384292603,0.8135754466056824,0.8170461654663086,0.8143529891967773,0.8207606673240662,0.8228604793548584,0.8223950266838074,0.8235481977462769,0.8221995830535889,0.8248895406723022,0.8269681930541992,0.8276380300521851,0.8296529650688171],\"type\":\"scatter\",\"xaxis\":\"x3\",\"yaxis\":\"y3\"}],                        {\"template\":{\"data\":{\"barpolar\":[{\"marker\":{\"line\":{\"color\":\"white\",\"width\":0.5},\"pattern\":{\"fillmode\":\"overlay\",\"size\":10,\"solidity\":0.2}},\"type\":\"barpolar\"}],\"bar\":[{\"error_x\":{\"color\":\"#2a3f5f\"},\"error_y\":{\"color\":\"#2a3f5f\"},\"marker\":{\"line\":{\"color\":\"white\",\"width\":0.5},\"pattern\":{\"fillmode\":\"overlay\",\"size\":10,\"solidity\":0.2}},\"type\":\"bar\"}],\"carpet\":[{\"aaxis\":{\"endlinecolor\":\"#2a3f5f\",\"gridcolor\":\"#C8D4E3\",\"linecolor\":\"#C8D4E3\",\"minorgridcolor\":\"#C8D4E3\",\"startlinecolor\":\"#2a3f5f\"},\"baxis\":{\"endlinecolor\":\"#2a3f5f\",\"gridcolor\":\"#C8D4E3\",\"linecolor\":\"#C8D4E3\",\"minorgridcolor\":\"#C8D4E3\",\"startlinecolor\":\"#2a3f5f\"},\"type\":\"carpet\"}],\"choropleth\":[{\"colorbar\":{\"outlinewidth\":0,\"ticks\":\"\"},\"type\":\"choropleth\"}],\"contourcarpet\":[{\"colorbar\":{\"outlinewidth\":0,\"ticks\":\"\"},\"type\":\"contourcarpet\"}],\"contour\":[{\"colorbar\":{\"outlinewidth\":0,\"ticks\":\"\"},\"colorscale\":[[0.0,\"#0d0887\"],[0.1111111111111111,\"#46039f\"],[0.2222222222222222,\"#7201a8\"],[0.3333333333333333,\"#9c179e\"],[0.4444444444444444,\"#bd3786\"],[0.5555555555555556,\"#d8576b\"],[0.6666666666666666,\"#ed7953\"],[0.7777777777777778,\"#fb9f3a\"],[0.8888888888888888,\"#fdca26\"],[1.0,\"#f0f921\"]],\"type\":\"contour\"}],\"heatmapgl\":[{\"colorbar\":{\"outlinewidth\":0,\"ticks\":\"\"},\"colorscale\":[[0.0,\"#0d0887\"],[0.1111111111111111,\"#46039f\"],[0.2222222222222222,\"#7201a8\"],[0.3333333333333333,\"#9c179e\"],[0.4444444444444444,\"#bd3786\"],[0.5555555555555556,\"#d8576b\"],[0.6666666666666666,\"#ed7953\"],[0.7777777777777778,\"#fb9f3a\"],[0.8888888888888888,\"#fdca26\"],[1.0,\"#f0f921\"]],\"type\":\"heatmapgl\"}],\"heatmap\":[{\"colorbar\":{\"outlinewidth\":0,\"ticks\":\"\"},\"colorscale\":[[0.0,\"#0d0887\"],[0.1111111111111111,\"#46039f\"],[0.2222222222222222,\"#7201a8\"],[0.3333333333333333,\"#9c179e\"],[0.4444444444444444,\"#bd3786\"],[0.5555555555555556,\"#d8576b\"],[0.6666666666666666,\"#ed7953\"],[0.7777777777777778,\"#fb9f3a\"],[0.8888888888888888,\"#fdca26\"],[1.0,\"#f0f921\"]],\"type\":\"heatmap\"}],\"histogram2dcontour\":[{\"colorbar\":{\"outlinewidth\":0,\"ticks\":\"\"},\"colorscale\":[[0.0,\"#0d0887\"],[0.1111111111111111,\"#46039f\"],[0.2222222222222222,\"#7201a8\"],[0.3333333333333333,\"#9c179e\"],[0.4444444444444444,\"#bd3786\"],[0.5555555555555556,\"#d8576b\"],[0.6666666666666666,\"#ed7953\"],[0.7777777777777778,\"#fb9f3a\"],[0.8888888888888888,\"#fdca26\"],[1.0,\"#f0f921\"]],\"type\":\"histogram2dcontour\"}],\"histogram2d\":[{\"colorbar\":{\"outlinewidth\":0,\"ticks\":\"\"},\"colorscale\":[[0.0,\"#0d0887\"],[0.1111111111111111,\"#46039f\"],[0.2222222222222222,\"#7201a8\"],[0.3333333333333333,\"#9c179e\"],[0.4444444444444444,\"#bd3786\"],[0.5555555555555556,\"#d8576b\"],[0.6666666666666666,\"#ed7953\"],[0.7777777777777778,\"#fb9f3a\"],[0.8888888888888888,\"#fdca26\"],[1.0,\"#f0f921\"]],\"type\":\"histogram2d\"}],\"histogram\":[{\"marker\":{\"pattern\":{\"fillmode\":\"overlay\",\"size\":10,\"solidity\":0.2}},\"type\":\"histogram\"}],\"mesh3d\":[{\"colorbar\":{\"outlinewidth\":0,\"ticks\":\"\"},\"type\":\"mesh3d\"}],\"parcoords\":[{\"line\":{\"colorbar\":{\"outlinewidth\":0,\"ticks\":\"\"}},\"type\":\"parcoords\"}],\"pie\":[{\"automargin\":true,\"type\":\"pie\"}],\"scatter3d\":[{\"line\":{\"colorbar\":{\"outlinewidth\":0,\"ticks\":\"\"}},\"marker\":{\"colorbar\":{\"outlinewidth\":0,\"ticks\":\"\"}},\"type\":\"scatter3d\"}],\"scattercarpet\":[{\"marker\":{\"colorbar\":{\"outlinewidth\":0,\"ticks\":\"\"}},\"type\":\"scattercarpet\"}],\"scattergeo\":[{\"marker\":{\"colorbar\":{\"outlinewidth\":0,\"ticks\":\"\"}},\"type\":\"scattergeo\"}],\"scattergl\":[{\"marker\":{\"colorbar\":{\"outlinewidth\":0,\"ticks\":\"\"}},\"type\":\"scattergl\"}],\"scattermapbox\":[{\"marker\":{\"colorbar\":{\"outlinewidth\":0,\"ticks\":\"\"}},\"type\":\"scattermapbox\"}],\"scatterpolargl\":[{\"marker\":{\"colorbar\":{\"outlinewidth\":0,\"ticks\":\"\"}},\"type\":\"scatterpolargl\"}],\"scatterpolar\":[{\"marker\":{\"colorbar\":{\"outlinewidth\":0,\"ticks\":\"\"}},\"type\":\"scatterpolar\"}],\"scatter\":[{\"fillpattern\":{\"fillmode\":\"overlay\",\"size\":10,\"solidity\":0.2},\"type\":\"scatter\"}],\"scatterternary\":[{\"marker\":{\"colorbar\":{\"outlinewidth\":0,\"ticks\":\"\"}},\"type\":\"scatterternary\"}],\"surface\":[{\"colorbar\":{\"outlinewidth\":0,\"ticks\":\"\"},\"colorscale\":[[0.0,\"#0d0887\"],[0.1111111111111111,\"#46039f\"],[0.2222222222222222,\"#7201a8\"],[0.3333333333333333,\"#9c179e\"],[0.4444444444444444,\"#bd3786\"],[0.5555555555555556,\"#d8576b\"],[0.6666666666666666,\"#ed7953\"],[0.7777777777777778,\"#fb9f3a\"],[0.8888888888888888,\"#fdca26\"],[1.0,\"#f0f921\"]],\"type\":\"surface\"}],\"table\":[{\"cells\":{\"fill\":{\"color\":\"#EBF0F8\"},\"line\":{\"color\":\"white\"}},\"header\":{\"fill\":{\"color\":\"#C8D4E3\"},\"line\":{\"color\":\"white\"}},\"type\":\"table\"}]},\"layout\":{\"annotationdefaults\":{\"arrowcolor\":\"#2a3f5f\",\"arrowhead\":0,\"arrowwidth\":1},\"autotypenumbers\":\"strict\",\"coloraxis\":{\"colorbar\":{\"outlinewidth\":0,\"ticks\":\"\"}},\"colorscale\":{\"diverging\":[[0,\"#8e0152\"],[0.1,\"#c51b7d\"],[0.2,\"#de77ae\"],[0.3,\"#f1b6da\"],[0.4,\"#fde0ef\"],[0.5,\"#f7f7f7\"],[0.6,\"#e6f5d0\"],[0.7,\"#b8e186\"],[0.8,\"#7fbc41\"],[0.9,\"#4d9221\"],[1,\"#276419\"]],\"sequential\":[[0.0,\"#0d0887\"],[0.1111111111111111,\"#46039f\"],[0.2222222222222222,\"#7201a8\"],[0.3333333333333333,\"#9c179e\"],[0.4444444444444444,\"#bd3786\"],[0.5555555555555556,\"#d8576b\"],[0.6666666666666666,\"#ed7953\"],[0.7777777777777778,\"#fb9f3a\"],[0.8888888888888888,\"#fdca26\"],[1.0,\"#f0f921\"]],\"sequentialminus\":[[0.0,\"#0d0887\"],[0.1111111111111111,\"#46039f\"],[0.2222222222222222,\"#7201a8\"],[0.3333333333333333,\"#9c179e\"],[0.4444444444444444,\"#bd3786\"],[0.5555555555555556,\"#d8576b\"],[0.6666666666666666,\"#ed7953\"],[0.7777777777777778,\"#fb9f3a\"],[0.8888888888888888,\"#fdca26\"],[1.0,\"#f0f921\"]]},\"colorway\":[\"#636efa\",\"#EF553B\",\"#00cc96\",\"#ab63fa\",\"#FFA15A\",\"#19d3f3\",\"#FF6692\",\"#B6E880\",\"#FF97FF\",\"#FECB52\"],\"font\":{\"color\":\"#2a3f5f\"},\"geo\":{\"bgcolor\":\"white\",\"lakecolor\":\"white\",\"landcolor\":\"white\",\"showlakes\":true,\"showland\":true,\"subunitcolor\":\"#C8D4E3\"},\"hoverlabel\":{\"align\":\"left\"},\"hovermode\":\"closest\",\"mapbox\":{\"style\":\"light\"},\"paper_bgcolor\":\"white\",\"plot_bgcolor\":\"white\",\"polar\":{\"angularaxis\":{\"gridcolor\":\"#EBF0F8\",\"linecolor\":\"#EBF0F8\",\"ticks\":\"\"},\"bgcolor\":\"white\",\"radialaxis\":{\"gridcolor\":\"#EBF0F8\",\"linecolor\":\"#EBF0F8\",\"ticks\":\"\"}},\"scene\":{\"xaxis\":{\"backgroundcolor\":\"white\",\"gridcolor\":\"#DFE8F3\",\"gridwidth\":2,\"linecolor\":\"#EBF0F8\",\"showbackground\":true,\"ticks\":\"\",\"zerolinecolor\":\"#EBF0F8\"},\"yaxis\":{\"backgroundcolor\":\"white\",\"gridcolor\":\"#DFE8F3\",\"gridwidth\":2,\"linecolor\":\"#EBF0F8\",\"showbackground\":true,\"ticks\":\"\",\"zerolinecolor\":\"#EBF0F8\"},\"zaxis\":{\"backgroundcolor\":\"white\",\"gridcolor\":\"#DFE8F3\",\"gridwidth\":2,\"linecolor\":\"#EBF0F8\",\"showbackground\":true,\"ticks\":\"\",\"zerolinecolor\":\"#EBF0F8\"}},\"shapedefaults\":{\"line\":{\"color\":\"#2a3f5f\"}},\"ternary\":{\"aaxis\":{\"gridcolor\":\"#DFE8F3\",\"linecolor\":\"#A2B1C6\",\"ticks\":\"\"},\"baxis\":{\"gridcolor\":\"#DFE8F3\",\"linecolor\":\"#A2B1C6\",\"ticks\":\"\"},\"bgcolor\":\"white\",\"caxis\":{\"gridcolor\":\"#DFE8F3\",\"linecolor\":\"#A2B1C6\",\"ticks\":\"\"}},\"title\":{\"x\":0.05},\"xaxis\":{\"automargin\":true,\"gridcolor\":\"#EBF0F8\",\"linecolor\":\"#EBF0F8\",\"ticks\":\"\",\"title\":{\"standoff\":15},\"zerolinecolor\":\"#EBF0F8\",\"zerolinewidth\":2},\"yaxis\":{\"automargin\":true,\"gridcolor\":\"#EBF0F8\",\"linecolor\":\"#EBF0F8\",\"ticks\":\"\",\"title\":{\"standoff\":15},\"zerolinecolor\":\"#EBF0F8\",\"zerolinewidth\":2}}},\"xaxis\":{\"anchor\":\"y\",\"domain\":[0.0,0.2888888888888889],\"title\":{\"text\":\"Epoch\"}},\"yaxis\":{\"anchor\":\"x\",\"domain\":[0.0,1.0],\"title\":{\"text\":\"\\u041f\\u043e\\u0442\\u0435\\u0440\\u0438\"}},\"xaxis2\":{\"anchor\":\"y2\",\"domain\":[0.35555555555555557,0.6444444444444445],\"title\":{\"text\":\"Epoch\"}},\"yaxis2\":{\"anchor\":\"x2\",\"domain\":[0.0,1.0],\"title\":{\"text\":\"\\u0422\\u043e\\u0447\\u043d\\u043e\\u0441\\u0442\\u044c\"}},\"xaxis3\":{\"anchor\":\"y3\",\"domain\":[0.7111111111111111,1.0],\"title\":{\"text\":\"Epoch\"}},\"yaxis3\":{\"anchor\":\"x3\",\"domain\":[0.0,1.0],\"title\":{\"text\":\"AUC\"}},\"annotations\":[{\"font\":{\"size\":16},\"showarrow\":false,\"text\":\"\\u041f\\u043e\\u0442\\u0435\\u0440\\u0438 \\u043d\\u0430 \\u043e\\u0431\\u0443\\u0447\\u0430\\u044e\\u0449\\u0435\\u0439 \\u0438 \\u0432\\u0430\\u043b\\u0438\\u0434\\u0430\\u0446\\u0438\\u043e\\u043d\\u043d\\u043e\\u0439 \\u0432\\u044b\\u0431\\u043e\\u0440\\u043a\\u0435\",\"x\":0.14444444444444446,\"xanchor\":\"center\",\"xref\":\"paper\",\"y\":1.0,\"yanchor\":\"bottom\",\"yref\":\"paper\"},{\"font\":{\"size\":16},\"showarrow\":false,\"text\":\"\\u041a\\u0430\\u0442\\u0435\\u0433\\u043e\\u0440\\u0438\\u0430\\u043b\\u044c\\u043d\\u0430\\u044f \\u0442\\u043e\\u0447\\u043d\\u043e\\u0441\\u0442\\u044c \\u043d\\u0430 \\u043e\\u0431\\u0443\\u0447\\u0430\\u044e\\u0449\\u0435\\u0439 \\u0438 \\u0432\\u0430\\u043b\\u0438\\u0434\\u0430\\u0446\\u0438\\u043e\\u043d\\u043d\\u043e\\u0439 \\u0432\\u044b\\u0431\\u043e\\u0440\\u043a\\u0435\",\"x\":0.5,\"xanchor\":\"center\",\"xref\":\"paper\",\"y\":1.0,\"yanchor\":\"bottom\",\"yref\":\"paper\"},{\"font\":{\"size\":16},\"showarrow\":false,\"text\":\"\\u041f\\u0430\\u0440\\u0430\\u043c\\u0435\\u0442\\u0440 AUC \\u043d\\u0430 \\u043e\\u0431\\u0443\\u0447\\u0435\\u044e\\u0449\\u0435\\u0439 \\u0438 \\u0432\\u0430\\u043b\\u0438\\u0434\\u0430\\u0446\\u0438\\u043e\\u043d\\u043d\\u043e\\u0439 \\u0432\\u044b\\u0431\\u043e\\u0440\\u043a\\u0435\",\"x\":0.8555555555555556,\"xanchor\":\"center\",\"xref\":\"paper\",\"y\":1.0,\"yanchor\":\"bottom\",\"yref\":\"paper\"}],\"height\":500,\"width\":600,\"legend\":{\"x\":0.5,\"xanchor\":\"center\"},\"title\":{\"text\":\"\"}},                        {\"responsive\": true}                    ).then(function(){\n",
       "                            \n",
       "var gd = document.getElementById('617d2c04-96c3-4a64-a118-a3e53e61760e');\n",
       "var x = new MutationObserver(function (mutations, observer) {{\n",
       "        var display = window.getComputedStyle(gd).display;\n",
       "        if (!display || display === 'none') {{\n",
       "            console.log([gd, 'removed!']);\n",
       "            Plotly.purge(gd);\n",
       "            observer.disconnect();\n",
       "        }}\n",
       "}});\n",
       "\n",
       "// Listen for the removal of the full notebook cells\n",
       "var notebookContainer = gd.closest('#notebook-container');\n",
       "if (notebookContainer) {{\n",
       "    x.observe(notebookContainer, {childList: true});\n",
       "}}\n",
       "\n",
       "// Listen for the clearing of the current output cell\n",
       "var outputEl = gd.closest('.output');\n",
       "if (outputEl) {{\n",
       "    x.observe(outputEl, {childList: true});\n",
       "}}\n",
       "\n",
       "                        })                };                });            </script>        </div>"
      ]
     },
     "metadata": {},
     "output_type": "display_data"
    }
   ],
   "source": [
    "plot_history_log(model_log)\n",
    "#fig = go.Figure()\n",
    "#fig.add_trace(go.Scatter(x=epoch,y = model_log.loss,name='Потери на обучении',marker_color='red'))\n",
    "#fig.add_trace(go.Scatter(x=epoch,y= model_log.val_loss,name='Потери на валидации',marker_color='steelblue'))\n",
    "\n",
    "#fig.add_trace(go.Scatter(x=epoch, y=  model_log.categorical_accuracy, name='Категориальная точность',marker_color='red'))\n",
    "#fig.add_trace(go.Scatter(x=epoch, y=  model_log.val_categorical_accuracy, name='Категориальная точность на валидации',marker_color='lightskyblue'))\n",
    "\n",
    "# fig.add_trace(go.Scatter(x=epoch, y=model_log.auc_1,name='AUC на обучении',marker_color='red'))\n",
    "# fig.add_trace(go.Scatter(x=epoch, y=model_log.val_auc_1,name='AUC на валидации',marker_color='steelblue'))\n",
    "\n",
    "# fig.update_layout(margin=dict(l=0, r=0, t=0, b=0),template='plotly_white', height=500, width=475,\n",
    "#                   legend=dict(x=.5, xanchor=\"center\"),title_text=\"Model History\")\n",
    "                    \n",
    "# fig.update_yaxes(title_text=\"Потери\")\n",
    "# fig.update_xaxes(title_text=\"Эпоха\")\n",
    "# fig.show()"
   ]
  },
  {
   "cell_type": "code",
   "execution_count": 3,
   "id": "78ab5024",
   "metadata": {
    "scrolled": true
   },
   "outputs": [
    {
     "data": {
      "text/plain": [
       "(78895, 27)"
      ]
     },
     "execution_count": 3,
     "metadata": {},
     "output_type": "execute_result"
    }
   ],
   "source": [
    "train_set = pd.read_pickle('ZalevskiyDiplom/sample/new_train_set.pkl')\n",
    "valid_set = pd.read_pickle('ZalevskiyDiplom/sample/new_valid_set.pkl')\n",
    "train_set.shape"
   ]
  },
  {
   "cell_type": "code",
   "execution_count": 4,
   "id": "1c063e74",
   "metadata": {},
   "outputs": [],
   "source": [
    "# ImageGenerator и создание генераторов для обучения\n",
    "\n",
    "path_to_images = 'K:/DiplomZalevskiy/data/images'\n",
    "disease_labels = ['Atelectasis',\n",
    "       'Consolidation', 'Infiltration', 'Pneumothorax', 'Edema', 'Emphysema',\n",
    "       'Fibrosis', 'Effusion', 'Pneumonia', 'Pleural_Thickening',\n",
    "       'Cardiomegaly', 'Nodule', 'Mass', 'Hernia']\n",
    "\n",
    "image_generator = ImageDataGenerator(rescale=1./255.,\n",
    "                         samplewise_center=True,\n",
    "                         samplewise_std_normalization=True,\n",
    "                         horizontal_flip=False,\n",
    "                         vertical_flip=False,\n",
    "                         height_shift_range=0.1,\n",
    "                         width_shift_range=0.1,\n",
    "                         rotation_range=5,\n",
    "                         shear_range=0.1,\n",
    "                         fill_mode='reflect',\n",
    "                         zoom_range=0.15)\n"
   ]
  },
  {
   "cell_type": "code",
   "execution_count": 7,
   "id": "e3da8496",
   "metadata": {},
   "outputs": [
    {
     "ename": "ValueError",
     "evalue": "num must be 1 <= num <= 4, not 5",
     "output_type": "error",
     "traceback": [
      "\u001b[1;31m---------------------------------------------------------------------------\u001b[0m",
      "\u001b[1;31mValueError\u001b[0m                                Traceback (most recent call last)",
      "Input \u001b[1;32mIn [7]\u001b[0m, in \u001b[0;36m<cell line: 23>\u001b[1;34m()\u001b[0m\n\u001b[0;32m     24\u001b[0m im \u001b[38;5;241m=\u001b[39m cv2\u001b[38;5;241m.\u001b[39mimread(l)\n\u001b[0;32m     25\u001b[0m im \u001b[38;5;241m=\u001b[39m cv2\u001b[38;5;241m.\u001b[39mresize(im,(\u001b[38;5;241m128\u001b[39m,\u001b[38;5;241m128\u001b[39m))\n\u001b[1;32m---> 26\u001b[0m \u001b[43mplt\u001b[49m\u001b[38;5;241;43m.\u001b[39;49m\u001b[43msubplot\u001b[49m\u001b[43m(\u001b[49m\u001b[38;5;241;43m2\u001b[39;49m\u001b[43m,\u001b[49m\u001b[38;5;241;43m2\u001b[39;49m\u001b[43m,\u001b[49m\u001b[43mi\u001b[49m\u001b[38;5;241;43m+\u001b[39;49m\u001b[38;5;241;43m1\u001b[39;49m\u001b[43m)\u001b[49m\n\u001b[0;32m     27\u001b[0m plt\u001b[38;5;241m.\u001b[39mimshow(cv2\u001b[38;5;241m.\u001b[39mcvtColor(im,cv2\u001b[38;5;241m.\u001b[39mCOLOR_BGR2RGB)); plt\u001b[38;5;241m.\u001b[39maxis(\u001b[38;5;124m'\u001b[39m\u001b[38;5;124moff\u001b[39m\u001b[38;5;124m'\u001b[39m)\n\u001b[0;32m     28\u001b[0m i\u001b[38;5;241m+\u001b[39m\u001b[38;5;241m=\u001b[39m\u001b[38;5;241m1\u001b[39m\n",
      "File \u001b[1;32m~\\AppData\\Local\\Programs\\Python\\Python310\\lib\\site-packages\\matplotlib\\pyplot.py:1289\u001b[0m, in \u001b[0;36msubplot\u001b[1;34m(*args, **kwargs)\u001b[0m\n\u001b[0;32m   1286\u001b[0m fig \u001b[38;5;241m=\u001b[39m gcf()\n\u001b[0;32m   1288\u001b[0m \u001b[38;5;66;03m# First, search for an existing subplot with a matching spec.\u001b[39;00m\n\u001b[1;32m-> 1289\u001b[0m key \u001b[38;5;241m=\u001b[39m \u001b[43mSubplotSpec\u001b[49m\u001b[38;5;241;43m.\u001b[39;49m\u001b[43m_from_subplot_args\u001b[49m\u001b[43m(\u001b[49m\u001b[43mfig\u001b[49m\u001b[43m,\u001b[49m\u001b[43m \u001b[49m\u001b[43margs\u001b[49m\u001b[43m)\u001b[49m\n\u001b[0;32m   1291\u001b[0m \u001b[38;5;28;01mfor\u001b[39;00m ax \u001b[38;5;129;01min\u001b[39;00m fig\u001b[38;5;241m.\u001b[39maxes:\n\u001b[0;32m   1292\u001b[0m     \u001b[38;5;66;03m# if we found an axes at the position sort out if we can re-use it\u001b[39;00m\n\u001b[0;32m   1293\u001b[0m     \u001b[38;5;28;01mif\u001b[39;00m \u001b[38;5;28mhasattr\u001b[39m(ax, \u001b[38;5;124m'\u001b[39m\u001b[38;5;124mget_subplotspec\u001b[39m\u001b[38;5;124m'\u001b[39m) \u001b[38;5;129;01mand\u001b[39;00m ax\u001b[38;5;241m.\u001b[39mget_subplotspec() \u001b[38;5;241m==\u001b[39m key:\n\u001b[0;32m   1294\u001b[0m         \u001b[38;5;66;03m# if the user passed no kwargs, re-use\u001b[39;00m\n",
      "File \u001b[1;32m~\\AppData\\Local\\Programs\\Python\\Python310\\lib\\site-packages\\matplotlib\\gridspec.py:608\u001b[0m, in \u001b[0;36mSubplotSpec._from_subplot_args\u001b[1;34m(figure, args)\u001b[0m\n\u001b[0;32m    606\u001b[0m \u001b[38;5;28;01melse\u001b[39;00m:\n\u001b[0;32m    607\u001b[0m     \u001b[38;5;28;01mif\u001b[39;00m \u001b[38;5;129;01mnot\u001b[39;00m \u001b[38;5;28misinstance\u001b[39m(num, Integral) \u001b[38;5;129;01mor\u001b[39;00m num \u001b[38;5;241m<\u001b[39m \u001b[38;5;241m1\u001b[39m \u001b[38;5;129;01mor\u001b[39;00m num \u001b[38;5;241m>\u001b[39m rows\u001b[38;5;241m*\u001b[39mcols:\n\u001b[1;32m--> 608\u001b[0m         \u001b[38;5;28;01mraise\u001b[39;00m \u001b[38;5;167;01mValueError\u001b[39;00m(\n\u001b[0;32m    609\u001b[0m             \u001b[38;5;124mf\u001b[39m\u001b[38;5;124m\"\u001b[39m\u001b[38;5;124mnum must be 1 <= num <= \u001b[39m\u001b[38;5;132;01m{\u001b[39;00mrows\u001b[38;5;241m*\u001b[39mcols\u001b[38;5;132;01m}\u001b[39;00m\u001b[38;5;124m, not \u001b[39m\u001b[38;5;132;01m{\u001b[39;00mnum\u001b[38;5;132;01m!r}\u001b[39;00m\u001b[38;5;124m\"\u001b[39m)\n\u001b[0;32m    610\u001b[0m     i \u001b[38;5;241m=\u001b[39m j \u001b[38;5;241m=\u001b[39m num\n\u001b[0;32m    611\u001b[0m \u001b[38;5;28;01mreturn\u001b[39;00m gs[i\u001b[38;5;241m-\u001b[39m\u001b[38;5;241m1\u001b[39m:j]\n",
      "\u001b[1;31mValueError\u001b[0m: num must be 1 <= num <= 4, not 5"
     ]
    },
    {
     "data": {
      "image/png": "[encoded data removed]",
      "text/plain": [
       "<Figure size 432x288 with 4 Axes>"
      ]
     },
     "metadata": {
      "needs_background": "light"
     },
     "output_type": "display_data"
    }
   ],
   "source": [
    "# Импорты\n",
    "from keras.preprocessing import image\n",
    "from tensorflow.keras.utils import load_img,img_to_array,array_to_img\n",
    "import glob\n",
    "import cv2\n",
    "\n",
    "\n",
    "# # Аугментация данных\n",
    "# img = load_img(r'K:\\DiplomZalevskiy\\data\\aug_data\\orig_data.png')\n",
    "# x = img_to_array(img)\n",
    "# x = x.reshape((1,) + x.shape)\n",
    "# i = 0\n",
    "# for batch in image_generator.flow(x,batch_size=1,save_to_dir = r'K:\\DiplomZalevskiy\\data\\aug_data'):\n",
    "#     i+=1 \n",
    "#     if i > 5:\n",
    "#         break\n",
    "\n",
    "# Выводе аугментированных изображений\n",
    "import matplotlib.pyplot as plt\n",
    "path = 'K:/DiplomZalevskiy/data/aug_data/*'\n",
    "i= 0\n",
    "files = glob.glob(path)\n",
    "for l in files:\n",
    "    im = cv2.imread(l)\n",
    "    im = cv2.resize(im,(128,128))\n",
    "    plt.subplot(2,2,i+1)\n",
    "    plt.imshow(cv2.cvtColor(im,cv2.COLOR_BGR2RGB)); plt.axis('off')\n",
    "    i+=1"
   ]
  },
  {
   "cell_type": "code",
   "execution_count": null,
   "id": "38dd0045",
   "metadata": {
    "scrolled": true
   },
   "outputs": [],
   "source": [
    "# Генераторы данных для обучения и валидации\n",
    "train_generator = image_generator.flow_from_dataframe(\n",
    "    dataframe=train_set,\n",
    "    directory=path_to_images,\n",
    "    x_col=\"filename\",\n",
    "    y_col= disease_labels,\n",
    "    classes = disease_labels,\n",
    "    target_size=(128, 128),\n",
    "    seed=42,\n",
    "    class_mode='raw',\n",
    "    batch_size=32,\n",
    "    shuffle=False)\n",
    "\n",
    "valid_generator = image_generator.flow_from_dataframe(\n",
    "    dataframe=valid_set,\n",
    "    directory=path_to_images,\n",
    "    x_col=\"filename\", #строка, столбец в дата-кадре, содержащий имена файлов (или абсолютные пути, если каталог None).\n",
    "    y_col= disease_labels,\n",
    "    classes = disease_labels,\n",
    "    target_size=(128, 128),\n",
    "    seed=42,\n",
    "    class_mode='raw', # если class_mode является «raw» или «multi_output», он должен содержать колонки, указанные в y_col.\n",
    "    batch_size=256,\n",
    "    shuffle=False)\n",
    "\n",
    "x_train, y_train = next(train_generator) # возвращает следующий аргумент из генератора"
   ]
  },
  {
   "cell_type": "code",
   "execution_count": 71,
   "id": "2388a83c",
   "metadata": {},
   "outputs": [],
   "source": [
    "# Коллбеки\n",
    "model_checkpoint = ModelCheckpoint(\n",
    "    filepath = 'cnn_best_{epoch:02d}_{val_loss:.2f}.hdf5',\n",
    "    verbose = 1,\n",
    "    monitor = 'val_loss',\n",
    "    save_best_only= True)\n",
    "\n",
    "reduce_lron = ReduceLROnPlateau(monitor='val_loss', \n",
    "                                factor=0.1, \n",
    "                                patience=3,\n",
    "                                verbose=1, mode=\"min\", \n",
    "                                min_lr=1e-5)\n",
    "\n",
    "auc = AUC()\n",
    "#model_checkpoint = ModelCheckpoint(..) # Описан ранее\n",
    "#reduce_lron = ReduceLROnPlateau(...) # Описан ранее\n",
    "ter_by_nan = TerminateOnNaN() \n",
    "logger = CSVLogger('cnn_best_logger.cvs')\n",
    "callbacks_lst = [model_checkpoint,reduce_lron,ter_by_nan,logger]"
   ]
  },
  {
   "cell_type": "code",
   "execution_count": 72,
   "id": "68955493",
   "metadata": {},
   "outputs": [],
   "source": [
    "from keras.metrics import top_k_categorical_accuracy\n",
    "def top_5_categorical_accuray(y_true,y_pred):\n",
    "    return top_k_categorical_accuracy(y_true,y_pred,k=5)"
   ]
  },
  {
   "cell_type": "code",
   "execution_count": null,
   "id": "5d3431fb",
   "metadata": {
    "scrolled": true
   },
   "outputs": [],
   "source": [
    "# Создание модели Sequential()\n",
    "from tensorflow.keras.layers import (Conv2D, GlobalMaxPool2D, GlobalAveragePooling2D,\n",
    "                                     Dropout, Flatten, Dense, Activation, Dropout,\n",
    "                                     BatchNormalization, MaxPooling2D)\n",
    "\n",
    "from tensorflow.keras import regularizers, optimizers\n",
    "from tensorflow.keras.models import Sequential\n",
    "from tensorflow.keras.optimizers.legacy import Adam\n",
    "from tensorflow.keras.callbacks import (ModelCheckpoint, LearningRateScheduler, \n",
    "                                        EarlyStopping, CSVLogger, TerminateOnNaN,\n",
    "                                       ReduceLROnPlateau)\n",
    "\n",
    "\n",
    "cnn_best = Sequential()\n",
    "cnn_best.add(Conv2D(filters=8, kernel_size=3, padding='same',\n",
    "                          activation='relu', input_shape=(128, 128,3)))\n",
    "cnn_best.add(BatchNormalization())\n",
    "cnn_best.add(MaxPooling2D(pool_size=2))\n",
    "cnn_best.add(Dropout(0.4))\n",
    "cnn_best.add(Conv2D(filters=16, kernel_size=3,\n",
    "                          padding='same', activation='relu'))\n",
    "cnn_best.add(BatchNormalization())\n",
    "cnn_best.add(MaxPooling2D(pool_size=2))\n",
    "cnn_best.add(Dropout(0.4))\n",
    "cnn_best.add(Conv2D(filters=32, kernel_size=3,\n",
    "                          padding='same', activation='relu'))\n",
    "cnn_best.add(BatchNormalization())\n",
    "cnn_best.add(MaxPooling2D(pool_size=2))\n",
    "cnn_best.add(Dropout(0.4))\n",
    "cnn_best.add(Conv2D(filters=64, kernel_size=3,\n",
    "                          padding='same', activation='relu'))\n",
    "cnn_best.add(BatchNormalization())\n",
    "cnn_best.add(MaxPooling2D(pool_size=2))\n",
    "cnn_best.add(Dropout(0.4))\n",
    "cnn_best.add(Conv2D(filters=128, kernel_size=3,\n",
    "                          padding='same', activation='relu'))\n",
    "cnn_best.add(BatchNormalization())\n",
    "cnn_best.add(MaxPooling2D(pool_size=3))\n",
    "cnn_best.add(Dropout(0.4))\n",
    "cnn_best.add(Flatten())\n",
    "cnn_best.add(Dense(256, activation='relu'))\n",
    "cnn_best.add(Dropout(0.4))\n",
    "cnn_best.add(Dense(512, activation='relu'))\n",
    "cnn_best.add(Dropout(0.4))\n",
    "cnn_best.add(Dense(14, activation='sigmoid'))\n",
    "\n",
    "cnn_best.compile(optimizer='adam', loss='binary_crossentropy', metrics=['categorical_accuracy',auc])\n",
    "\n",
    "cnn_best.summary()\n",
    "#.compile(optimizer='adam', \n",
    "# loss='categorical_crossentropy',\n",
    "# metrics=['accuracy'])"
   ]
  },
  {
   "cell_type": "code",
   "execution_count": null,
   "id": "e0c318d0",
   "metadata": {
    "scrolled": false
   },
   "outputs": [],
   "source": [
    "# Начало обучение модели\n",
    "STEP_SIZE_TRAIN=train_generator.n//train_generator.batch_size\n",
    "STEP_SIZE_VALID=valid_generator.n//valid_generator.batch_size\n",
    "cnn_best.fit_generator(generator = train_generator, epochs = 20,\n",
    "    steps_per_epoch=STEP_SIZE_TRAIN,\n",
    "    validation_data=valid_generator,\n",
    "    validation_steps=STEP_SIZE_VALID,\n",
    "    callbacks = callbacks_lst,\n",
    "    shuffle = False)                       "
   ]
  },
  {
   "cell_type": "code",
   "execution_count": 75,
   "id": "144073c4",
   "metadata": {},
   "outputs": [
    {
     "name": "stdout",
     "output_type": "stream",
     "text": [
      "1\n"
     ]
    }
   ],
   "source": [
    "import os\n",
    "if not os.path.exists('models'):\n",
    "        os.makedirs('models')\n",
    "\n",
    "number_obvervation = len(os.listdir('models'))  \n",
    "print(number_obvervation)\n",
    "cnn_best.save(f'models/my_cnn_best_{number_obvervation}.h5')\n",
    "    "
   ]
  },
  {
   "cell_type": "code",
   "execution_count": 77,
   "id": "fdab2c58",
   "metadata": {
    "scrolled": true
   },
   "outputs": [
    {
     "name": "stderr",
     "output_type": "stream",
     "text": [
      "C:\\Users\\Yaroslavel\\AppData\\Local\\Temp\\ipykernel_23204\\685583834.py:1: UserWarning: `Model.evaluate_generator` is deprecated and will be removed in a future version. Please use `Model.evaluate`, which supports generators.\n",
      "  result_train_acurracy = cnn_best.evaluate_generator(train_generator,steps =100)\n"
     ]
    }
   ],
   "source": [
    "result_train_acurracy = cnn_best.evaluate_generator(train_generator,steps =100)\n"
   ]
  },
  {
   "cell_type": "code",
   "execution_count": null,
   "id": "0d0ac857",
   "metadata": {
    "scrolled": true
   },
   "outputs": [],
   "source": [
    "result_train_acurracy"
   ]
  },
  {
   "cell_type": "code",
   "execution_count": null,
   "id": "4a9860f9",
   "metadata": {
    "scrolled": false
   },
   "outputs": [],
   "source": [
    "valid_train_acurracy = cnn_best.evaluate_generator(valid_generator,steps=100)"
   ]
  },
  {
   "cell_type": "code",
   "execution_count": 95,
   "id": "a34840c0",
   "metadata": {},
   "outputs": [
    {
     "data": {
      "text/plain": [
       "[0.1534174531698227, 0.18910156190395355, 0.8291822075843811]"
      ]
     },
     "execution_count": 95,
     "metadata": {},
     "output_type": "execute_result"
    }
   ],
   "source": [
    "valid_train_acurracy"
   ]
  },
  {
   "cell_type": "code",
   "execution_count": null,
   "id": "8a8e17f3",
   "metadata": {
    "scrolled": true
   },
   "outputs": [],
   "source": [
    "pred_y = cnn_best.predict_generator(valid_generator,\n",
    "                                          steps=valid_generator.n/valid_generator.batch_size,\n",
    "                                          verbose = 1)"
   ]
  },
  {
   "cell_type": "code",
   "execution_count": 104,
   "id": "8a9adea7",
   "metadata": {},
   "outputs": [
    {
     "data": {
      "text/plain": [
       "array([0, 0, 0, ..., 0, 0, 0], dtype=int64)"
      ]
     },
     "execution_count": 104,
     "metadata": {},
     "output_type": "execute_result"
    }
   ],
   "source": [
    "valid_generator.labels[:,idx]"
   ]
  },
  {
   "cell_type": "code",
   "execution_count": 108,
   "id": "c37cb1d0",
   "metadata": {},
   "outputs": [
    {
     "name": "stdout",
     "output_type": "stream",
     "text": [
      "5446\n",
      "2313\n",
      "8886\n",
      "2729\n",
      "1160\n",
      "1406\n",
      "950\n",
      "5476\n",
      "813\n",
      "1786\n",
      "1383\n",
      "3397\n",
      "2903\n",
      "290\n"
     ]
    },
    {
     "data": {
      "text/plain": [
       "Text(0, 0.5, 'True Positive Rate')"
      ]
     },
     "execution_count": 108,
     "metadata": {},
     "output_type": "execute_result"
    },
    {
     "data": {
      "image/png": "[encoded data removed]",
      "text/plain": [
       "<Figure size 648x648 with 1 Axes>"
      ]
     },
     "metadata": {
      "needs_background": "light"
     },
     "output_type": "display_data"
    }
   ],
   "source": [
    "import matplotlib.pyplot as plt\n",
    "%matplotlib inline\n",
    "from sklearn.metrics import roc_curve, auc\n",
    "fig, c_ax = plt.subplots(1,1, figsize = (9, 9))\n",
    "for (idx, c_label) in enumerate(all_labels):\n",
    "    fpr, tpr, thresholds = roc_curve(valid_generator.labels[:,idx].astype(int), pred_y[:,idx])\n",
    "    print(len(fpr))\n",
    "    c_ax.plot(fpr, tpr, label = '%s (AUC:%0.2f)'  % (c_label, auc(fpr, tpr)))\n",
    "c_ax.legend()\n",
    "c_ax.set_xlabel('False Positive Rate')\n",
    "c_ax.set_ylabel('True Positive Rate')"
   ]
  },
  {
   "cell_type": "code",
   "execution_count": 111,
   "id": "b5fe8b16",
   "metadata": {
    "scrolled": false
   },
   "outputs": [
    {
     "data": {
      "image/png": "[encoded data removed]",
      "text/plain": [
       "<Figure size 720x576 with 1 Axes>"
      ]
     },
     "metadata": {
      "needs_background": "light"
     },
     "output_type": "display_data"
    }
   ],
   "source": [
    "from sklearn.metrics import roc_curve,auc\n",
    "fpr      = dict()\n",
    "tpr      = dict()\n",
    "roc_auc  = dict()\n",
    "\n",
    "for i in range(14):\n",
    "       fpr[i], tpr[i], _ = roc_curve(valid_generator.labels[:,i], pred_y[:, i])\n",
    "       roc_auc[i] = auc(fpr[i], tpr[i])\n",
    "    \n",
    "fpr[\"micro\"], tpr[\"micro\"], _ = roc_curve(valid_generator.labels.ravel(), pred_y.ravel())\n",
    "roc_auc[\"micro\"] = auc(fpr[\"micro\"], tpr[\"micro\"])\n",
    "plt.figure(figsize = (10,8))\n",
    "lw = 2\n",
    "plt.plot(fpr[1],tpr[1],color = 'darkorange', lw = lw, label = 'ROC curve (area = %0.2f)' %roc_auc[1])\n",
    "plt.plot([0,1],[0,1],color = 'navy',lw = lw, linestyle = '--')\n",
    "plt.xlim([0.0,1.0])\n",
    "plt.ylim([0.0,1.05])\n",
    "plt.xlabel('False Positive Rate')\n",
    "plt.ylabel('True Positive Rate')\n",
    "plt.title('ROC Curve')\n",
    "plt.legend(loc = 'lower right')\n",
    "plt.show()"
   ]
  },
  {
   "cell_type": "code",
   "execution_count": null,
   "id": "ede2330f",
   "metadata": {
    "scrolled": true
   },
   "outputs": [],
   "source": [
    "final_dx[final_dx['filename']=='00008362_011.png']\n",
    "final_dx[final_dx['patientID']== 8362]\n",
    "effusion_df = final_dx[final_dx['Effusion']==1].loc[0:1000] # 0 - начальный индекс, \n",
    "                                                            #1000 - конечный индекс\n",
    "effusion_df"
   ]
  },
  {
   "cell_type": "code",
   "execution_count": null,
   "id": "ff28882c",
   "metadata": {
    "scrolled": true
   },
   "outputs": [],
   "source": [
    "# предсказывание результатов\n",
    "\n",
    "disease_labels = ['Atelectasis',\n",
    "       'Consolidation', 'Infiltration', 'Pneumothorax', 'Edema', 'Emphysema',\n",
    "       'Fibrosis', 'Effusion', 'Pneumonia', 'Pleural_Thickening',\n",
    "       'Cardiomegaly', 'Nodule', 'Mass', 'Hernia']\n",
    "\n",
    "\n",
    "\n",
    "\n",
    "disease_classes = {i:c for i,c in enumerate(disease_labels)}\n",
    "from tensorflow.keras.utils import load_img,img_to_array\n",
    "image = load_img(r'K:DiplomZalevskiy/data/00008362_011.png',target_size=(128,128))\n",
    "img_tensor = img_to_array(image)\n",
    "img_tensor /= 255\n",
    "img_tensor = np.expand_dims(img_tensor,axis=0)\n",
    "result_label = np.argmax(test_model.predict(img_tensor)[0],axis=0)\n",
    "print('true label',disease_classes[np.argmax(y_test)])\n",
    "print('predicted label',disease_classes[result_label])\n",
    "#sorted(result_label)"
   ]
  }
 ],
 "metadata": {
  "kernelspec": {
   "display_name": "Python 3 (ipykernel)",
   "language": "python",
   "name": "python3"
  },
  "language_info": {
   "codemirror_mode": {
    "name": "ipython",
    "version": 3
   },
   "file_extension": ".py",
   "mimetype": "text/x-python",
   "name": "python",
   "nbconvert_exporter": "python",
   "pygments_lexer": "ipython3",
   "version": "3.10.2"
  }
 },
 "nbformat": 4,
 "nbformat_minor": 5
}
